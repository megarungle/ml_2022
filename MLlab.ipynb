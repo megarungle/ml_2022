{
 "cells": [
  {
   "cell_type": "markdown",
   "id": "6c7e79eb",
   "metadata": {},
   "source": [
    "# Описание задачи\n",
    "\n",
    "## Введение. Описание предметной области\n",
    "\n",
    "Компания Tour & Travels предлагает своим клиентам пакет страхования путешествий.\n",
    "\n",
    "Новый страховой пакет также включает покрытие Covid.\n",
    "\n",
    "Компании необходимо знать, какие клиенты были бы заинтересованы в ее покупке, основываясь на истории своей базы данных.\n",
    "Страхование было предложено некоторым клиентам в 2019 году, и данные были извлечены из показателей производительности/продаж пакета за этот период.\n",
    "\n",
    "## Постановка задачи\n",
    "\n",
    "Необходимо построить интеллектуальную модель, которая может предсказать, будет ли клиент заинтересован в покупке пакета страхования путешествий на основе определенных параметров, приведенных ниже в таблице.\n",
    "\n",
    "## Данные\n",
    "\n",
    "### Количество данных\n",
    "\n",
    "- Объем данных (N) - 1987;\n",
    "- Количество признаков (d) - 9;\n",
    "- Количество классов (K) - 2.\n",
    "\n",
    "### Описание данных\n",
    "\n",
    "1. Id - уникальный идентификационный номер клиента;\n",
    "2. Age - возраст клиента;\n",
    "3. Employment Type - сектор, в котором работает клиент;\n",
    "4. GraduateOrNot - является ли клиент выпускником колледжа или нет;\n",
    "5. AnnualIncome - годовой доход клиента в индийских рупиях (округленный до ближайших 50 тысяч рупий);\n",
    "6. FamilyMembers - количество членов семьи клиента;\n",
    "7. ChronicDiseases - страдает ли клиент каким-либо серьезным заболеванием или состояниями, такими как диабет / высокое кровяное давление или астма и т. д;\n",
    "8. FrequentFlyer - часто ли клиент покупал авиабилеты за последние 2 года (2017-2019);\n",
    "9. EverTravelledAbroad - выезжал ли клиент когда-либо в другую страну (не обязательно пользуясь услугами компании);\n",
    "10. TravelInsurance - купил ли клиент пакет страхования путешествий во время вводного предложения, проведенного в 2019 году.\n",
    "\n",
    "\n",
    "\n",
    "Ссылка на датасет: [Travel insurance prediction data](https://www.kaggle.com/datasets/tejashvi14/travel-insurance-prediction-data)."
   ]
  },
  {
   "cell_type": "markdown",
   "id": "f4fd55f3",
   "metadata": {},
   "source": [
    "# Лабораторная №1 (ДМЗ 3)"
   ]
  },
  {
   "cell_type": "markdown",
   "id": "8638ac8a",
   "metadata": {},
   "source": [
    "# Решение поставленной задачи"
   ]
  },
  {
   "cell_type": "code",
   "execution_count": 3,
   "id": "8f01214d",
   "metadata": {},
   "outputs": [],
   "source": [
    "import pandas\n",
    "import numpy as np\n",
    "import random\n",
    "\n",
    "import warnings\n",
    "warnings.filterwarnings('ignore')"
   ]
  },
  {
   "cell_type": "markdown",
   "id": "d256bc90",
   "metadata": {},
   "source": [
    "## Чтение данных"
   ]
  },
  {
   "cell_type": "code",
   "execution_count": 4,
   "id": "ebd1da8f",
   "metadata": {
    "scrolled": true
   },
   "outputs": [
    {
     "data": {
      "text/html": [
       "<div>\n",
       "<style scoped>\n",
       "    .dataframe tbody tr th:only-of-type {\n",
       "        vertical-align: middle;\n",
       "    }\n",
       "\n",
       "    .dataframe tbody tr th {\n",
       "        vertical-align: top;\n",
       "    }\n",
       "\n",
       "    .dataframe thead th {\n",
       "        text-align: right;\n",
       "    }\n",
       "</style>\n",
       "<table border=\"1\" class=\"dataframe\">\n",
       "  <thead>\n",
       "    <tr style=\"text-align: right;\">\n",
       "      <th></th>\n",
       "      <th>Id</th>\n",
       "      <th>Age</th>\n",
       "      <th>Employment Type</th>\n",
       "      <th>GraduateOrNot</th>\n",
       "      <th>AnnualIncome</th>\n",
       "      <th>FamilyMembers</th>\n",
       "      <th>ChronicDiseases</th>\n",
       "      <th>FrequentFlyer</th>\n",
       "      <th>EverTravelledAbroad</th>\n",
       "      <th>TravelInsurance</th>\n",
       "    </tr>\n",
       "  </thead>\n",
       "  <tbody>\n",
       "    <tr>\n",
       "      <th>0</th>\n",
       "      <td>0</td>\n",
       "      <td>31</td>\n",
       "      <td>Government Sector</td>\n",
       "      <td>Yes</td>\n",
       "      <td>400000</td>\n",
       "      <td>6</td>\n",
       "      <td>1</td>\n",
       "      <td>No</td>\n",
       "      <td>No</td>\n",
       "      <td>0</td>\n",
       "    </tr>\n",
       "    <tr>\n",
       "      <th>1</th>\n",
       "      <td>1</td>\n",
       "      <td>31</td>\n",
       "      <td>Private Sector/Self Employed</td>\n",
       "      <td>Yes</td>\n",
       "      <td>1250000</td>\n",
       "      <td>7</td>\n",
       "      <td>0</td>\n",
       "      <td>No</td>\n",
       "      <td>No</td>\n",
       "      <td>0</td>\n",
       "    </tr>\n",
       "    <tr>\n",
       "      <th>2</th>\n",
       "      <td>2</td>\n",
       "      <td>34</td>\n",
       "      <td>Private Sector/Self Employed</td>\n",
       "      <td>Yes</td>\n",
       "      <td>500000</td>\n",
       "      <td>4</td>\n",
       "      <td>1</td>\n",
       "      <td>No</td>\n",
       "      <td>No</td>\n",
       "      <td>1</td>\n",
       "    </tr>\n",
       "    <tr>\n",
       "      <th>3</th>\n",
       "      <td>3</td>\n",
       "      <td>28</td>\n",
       "      <td>Private Sector/Self Employed</td>\n",
       "      <td>Yes</td>\n",
       "      <td>700000</td>\n",
       "      <td>3</td>\n",
       "      <td>1</td>\n",
       "      <td>No</td>\n",
       "      <td>No</td>\n",
       "      <td>0</td>\n",
       "    </tr>\n",
       "    <tr>\n",
       "      <th>4</th>\n",
       "      <td>4</td>\n",
       "      <td>28</td>\n",
       "      <td>Private Sector/Self Employed</td>\n",
       "      <td>Yes</td>\n",
       "      <td>700000</td>\n",
       "      <td>8</td>\n",
       "      <td>1</td>\n",
       "      <td>Yes</td>\n",
       "      <td>No</td>\n",
       "      <td>0</td>\n",
       "    </tr>\n",
       "  </tbody>\n",
       "</table>\n",
       "</div>"
      ],
      "text/plain": [
       "   Id  Age               Employment Type GraduateOrNot  AnnualIncome  \\\n",
       "0   0   31             Government Sector           Yes        400000   \n",
       "1   1   31  Private Sector/Self Employed           Yes       1250000   \n",
       "2   2   34  Private Sector/Self Employed           Yes        500000   \n",
       "3   3   28  Private Sector/Self Employed           Yes        700000   \n",
       "4   4   28  Private Sector/Self Employed           Yes        700000   \n",
       "\n",
       "   FamilyMembers  ChronicDiseases FrequentFlyer EverTravelledAbroad  \\\n",
       "0              6                1            No                  No   \n",
       "1              7                0            No                  No   \n",
       "2              4                1            No                  No   \n",
       "3              3                1            No                  No   \n",
       "4              8                1           Yes                  No   \n",
       "\n",
       "   TravelInsurance  \n",
       "0                0  \n",
       "1                0  \n",
       "2                1  \n",
       "3                0  \n",
       "4                0  "
      ]
     },
     "execution_count": 4,
     "metadata": {},
     "output_type": "execute_result"
    }
   ],
   "source": [
    "data = pandas.read_csv(\"TravelInsurancePrediction.csv\")\n",
    "\n",
    "data.head(5)  # Визуально проверяем первые 5 строк данных"
   ]
  },
  {
   "cell_type": "code",
   "execution_count": 5,
   "id": "a0ed6548",
   "metadata": {},
   "outputs": [
    {
     "data": {
      "text/plain": [
       "(1987, 10)"
      ]
     },
     "execution_count": 5,
     "metadata": {},
     "output_type": "execute_result"
    }
   ],
   "source": [
    "data.shape  # Проверяем размер таблицы"
   ]
  },
  {
   "cell_type": "markdown",
   "id": "357b44ce",
   "metadata": {},
   "source": [
    "## Типы данных"
   ]
  },
  {
   "cell_type": "code",
   "execution_count": 6,
   "id": "f1e8388d",
   "metadata": {},
   "outputs": [
    {
     "name": "stdout",
     "output_type": "stream",
     "text": [
      "<class 'pandas.core.frame.DataFrame'>\n",
      "RangeIndex: 1987 entries, 0 to 1986\n",
      "Data columns (total 10 columns):\n",
      " #   Column               Non-Null Count  Dtype \n",
      "---  ------               --------------  ----- \n",
      " 0   Id                   1987 non-null   int64 \n",
      " 1   Age                  1987 non-null   int64 \n",
      " 2   Employment Type      1987 non-null   object\n",
      " 3   GraduateOrNot        1987 non-null   object\n",
      " 4   AnnualIncome         1987 non-null   int64 \n",
      " 5   FamilyMembers        1987 non-null   int64 \n",
      " 6   ChronicDiseases      1987 non-null   int64 \n",
      " 7   FrequentFlyer        1987 non-null   object\n",
      " 8   EverTravelledAbroad  1987 non-null   object\n",
      " 9   TravelInsurance      1987 non-null   int64 \n",
      "dtypes: int64(6), object(4)\n",
      "memory usage: 155.4+ KB\n"
     ]
    }
   ],
   "source": [
    "data.info()"
   ]
  },
  {
   "cell_type": "markdown",
   "id": "e0721f42",
   "metadata": {},
   "source": [
    "- Пропущенные значения отсутствуют. Попробуем сымитировать такие значения в дальнейшем;\n",
    "- Некоторые категориальные признаки имеют тип object. Необходимо выставить корректные типы данных для признаков;\n",
    "- Некоторые признаки являются бинарными (Yes/No), но имеют тип object. Необходимо перевести данные в тип int64."
   ]
  },
  {
   "cell_type": "code",
   "execution_count": 7,
   "id": "51d742e1",
   "metadata": {},
   "outputs": [],
   "source": [
    "data = data.drop(\"Id\", axis=1)  # Также избавимся от ненужного признака-идентификатора"
   ]
  },
  {
   "cell_type": "code",
   "execution_count": 8,
   "id": "64302163",
   "metadata": {},
   "outputs": [
    {
     "data": {
      "text/plain": [
       "Age                       int64\n",
       "Employment Type        category\n",
       "GraduateOrNot             int64\n",
       "AnnualIncome              int64\n",
       "FamilyMembers             int64\n",
       "ChronicDiseases           int64\n",
       "FrequentFlyer             int64\n",
       "EverTravelledAbroad       int64\n",
       "TravelInsurance           int64\n",
       "dtype: object"
      ]
     },
     "execution_count": 8,
     "metadata": {},
     "output_type": "execute_result"
    }
   ],
   "source": [
    "# Переводим в категиориальный тип данных\n",
    "data[\"Employment Type\"] = data[\"Employment Type\"].astype(\"category\")\n",
    "\n",
    "# Приводим Yes/No данные в бинарный (целочисленный) тип\n",
    "data[\"GraduateOrNot\"] = pandas.factorize(data[\"GraduateOrNot\"])[0]\n",
    "data[\"FrequentFlyer\"] = pandas.factorize(data[\"FrequentFlyer\"])[0]\n",
    "data[\"EverTravelledAbroad\"] = pandas.factorize(data[\"EverTravelledAbroad\"])[0]\n",
    "\n",
    "data.dtypes"
   ]
  },
  {
   "cell_type": "markdown",
   "id": "6cb90200",
   "metadata": {},
   "source": [
    "## Имитируем пропущенные значения"
   ]
  },
  {
   "cell_type": "code",
   "execution_count": 9,
   "id": "84064510",
   "metadata": {},
   "outputs": [],
   "source": [
    "np.random.seed(10)\n",
    "\n",
    "remove_n = int(data.shape[0] * (data.shape[1] - 1) * 0.03)  # Удаляем 3% данных от общего числа всех признаков\n",
    "\n",
    "drop_indices = np.random.choice(data.index, remove_n)\n",
    "for idx in drop_indices:\n",
    "    colIdx = random.randint(0, 7)  # Cтолбец с классом не трогаем\n",
    "    data.loc[idx, data.columns[colIdx]] = None"
   ]
  },
  {
   "cell_type": "code",
   "execution_count": 10,
   "id": "78b5a87b",
   "metadata": {
    "scrolled": false
   },
   "outputs": [
    {
     "data": {
      "text/html": [
       "<div>\n",
       "<style scoped>\n",
       "    .dataframe tbody tr th:only-of-type {\n",
       "        vertical-align: middle;\n",
       "    }\n",
       "\n",
       "    .dataframe tbody tr th {\n",
       "        vertical-align: top;\n",
       "    }\n",
       "\n",
       "    .dataframe thead th {\n",
       "        text-align: right;\n",
       "    }\n",
       "</style>\n",
       "<table border=\"1\" class=\"dataframe\">\n",
       "  <thead>\n",
       "    <tr style=\"text-align: right;\">\n",
       "      <th></th>\n",
       "      <th>Age</th>\n",
       "      <th>Employment Type</th>\n",
       "      <th>GraduateOrNot</th>\n",
       "      <th>AnnualIncome</th>\n",
       "      <th>FamilyMembers</th>\n",
       "      <th>ChronicDiseases</th>\n",
       "      <th>FrequentFlyer</th>\n",
       "      <th>EverTravelledAbroad</th>\n",
       "      <th>TravelInsurance</th>\n",
       "    </tr>\n",
       "  </thead>\n",
       "  <tbody>\n",
       "    <tr>\n",
       "      <th>0</th>\n",
       "      <td>NaN</td>\n",
       "      <td>Government Sector</td>\n",
       "      <td>0.0</td>\n",
       "      <td>400000.0</td>\n",
       "      <td>6.0</td>\n",
       "      <td>1.0</td>\n",
       "      <td>0.0</td>\n",
       "      <td>0.0</td>\n",
       "      <td>0</td>\n",
       "    </tr>\n",
       "    <tr>\n",
       "      <th>1</th>\n",
       "      <td>31.0</td>\n",
       "      <td>Private Sector/Self Employed</td>\n",
       "      <td>0.0</td>\n",
       "      <td>1250000.0</td>\n",
       "      <td>7.0</td>\n",
       "      <td>0.0</td>\n",
       "      <td>0.0</td>\n",
       "      <td>0.0</td>\n",
       "      <td>0</td>\n",
       "    </tr>\n",
       "    <tr>\n",
       "      <th>2</th>\n",
       "      <td>NaN</td>\n",
       "      <td>Private Sector/Self Employed</td>\n",
       "      <td>0.0</td>\n",
       "      <td>500000.0</td>\n",
       "      <td>4.0</td>\n",
       "      <td>1.0</td>\n",
       "      <td>0.0</td>\n",
       "      <td>0.0</td>\n",
       "      <td>1</td>\n",
       "    </tr>\n",
       "    <tr>\n",
       "      <th>3</th>\n",
       "      <td>28.0</td>\n",
       "      <td>Private Sector/Self Employed</td>\n",
       "      <td>0.0</td>\n",
       "      <td>700000.0</td>\n",
       "      <td>3.0</td>\n",
       "      <td>1.0</td>\n",
       "      <td>0.0</td>\n",
       "      <td>0.0</td>\n",
       "      <td>0</td>\n",
       "    </tr>\n",
       "    <tr>\n",
       "      <th>4</th>\n",
       "      <td>28.0</td>\n",
       "      <td>Private Sector/Self Employed</td>\n",
       "      <td>0.0</td>\n",
       "      <td>700000.0</td>\n",
       "      <td>8.0</td>\n",
       "      <td>1.0</td>\n",
       "      <td>1.0</td>\n",
       "      <td>NaN</td>\n",
       "      <td>0</td>\n",
       "    </tr>\n",
       "    <tr>\n",
       "      <th>5</th>\n",
       "      <td>25.0</td>\n",
       "      <td>Private Sector/Self Employed</td>\n",
       "      <td>1.0</td>\n",
       "      <td>1150000.0</td>\n",
       "      <td>4.0</td>\n",
       "      <td>0.0</td>\n",
       "      <td>NaN</td>\n",
       "      <td>0.0</td>\n",
       "      <td>0</td>\n",
       "    </tr>\n",
       "    <tr>\n",
       "      <th>6</th>\n",
       "      <td>31.0</td>\n",
       "      <td>Government Sector</td>\n",
       "      <td>0.0</td>\n",
       "      <td>1300000.0</td>\n",
       "      <td>4.0</td>\n",
       "      <td>0.0</td>\n",
       "      <td>0.0</td>\n",
       "      <td>0.0</td>\n",
       "      <td>0</td>\n",
       "    </tr>\n",
       "    <tr>\n",
       "      <th>7</th>\n",
       "      <td>31.0</td>\n",
       "      <td>Private Sector/Self Employed</td>\n",
       "      <td>0.0</td>\n",
       "      <td>1350000.0</td>\n",
       "      <td>3.0</td>\n",
       "      <td>0.0</td>\n",
       "      <td>1.0</td>\n",
       "      <td>1.0</td>\n",
       "      <td>1</td>\n",
       "    </tr>\n",
       "    <tr>\n",
       "      <th>8</th>\n",
       "      <td>28.0</td>\n",
       "      <td>Private Sector/Self Employed</td>\n",
       "      <td>0.0</td>\n",
       "      <td>1450000.0</td>\n",
       "      <td>6.0</td>\n",
       "      <td>1.0</td>\n",
       "      <td>1.0</td>\n",
       "      <td>1.0</td>\n",
       "      <td>1</td>\n",
       "    </tr>\n",
       "    <tr>\n",
       "      <th>9</th>\n",
       "      <td>33.0</td>\n",
       "      <td>Government Sector</td>\n",
       "      <td>0.0</td>\n",
       "      <td>800000.0</td>\n",
       "      <td>3.0</td>\n",
       "      <td>0.0</td>\n",
       "      <td>1.0</td>\n",
       "      <td>0.0</td>\n",
       "      <td>0</td>\n",
       "    </tr>\n",
       "    <tr>\n",
       "      <th>10</th>\n",
       "      <td>31.0</td>\n",
       "      <td>Government Sector</td>\n",
       "      <td>0.0</td>\n",
       "      <td>400000.0</td>\n",
       "      <td>9.0</td>\n",
       "      <td>1.0</td>\n",
       "      <td>0.0</td>\n",
       "      <td>0.0</td>\n",
       "      <td>0</td>\n",
       "    </tr>\n",
       "    <tr>\n",
       "      <th>11</th>\n",
       "      <td>26.0</td>\n",
       "      <td>Private Sector/Self Employed</td>\n",
       "      <td>0.0</td>\n",
       "      <td>1400000.0</td>\n",
       "      <td>5.0</td>\n",
       "      <td>0.0</td>\n",
       "      <td>1.0</td>\n",
       "      <td>1.0</td>\n",
       "      <td>1</td>\n",
       "    </tr>\n",
       "    <tr>\n",
       "      <th>12</th>\n",
       "      <td>32.0</td>\n",
       "      <td>Government Sector</td>\n",
       "      <td>0.0</td>\n",
       "      <td>850000.0</td>\n",
       "      <td>6.0</td>\n",
       "      <td>0.0</td>\n",
       "      <td>0.0</td>\n",
       "      <td>0.0</td>\n",
       "      <td>1</td>\n",
       "    </tr>\n",
       "    <tr>\n",
       "      <th>13</th>\n",
       "      <td>31.0</td>\n",
       "      <td>Government Sector</td>\n",
       "      <td>0.0</td>\n",
       "      <td>NaN</td>\n",
       "      <td>6.0</td>\n",
       "      <td>0.0</td>\n",
       "      <td>1.0</td>\n",
       "      <td>1.0</td>\n",
       "      <td>1</td>\n",
       "    </tr>\n",
       "    <tr>\n",
       "      <th>14</th>\n",
       "      <td>31.0</td>\n",
       "      <td>Government Sector</td>\n",
       "      <td>0.0</td>\n",
       "      <td>400000.0</td>\n",
       "      <td>3.0</td>\n",
       "      <td>0.0</td>\n",
       "      <td>0.0</td>\n",
       "      <td>0.0</td>\n",
       "      <td>0</td>\n",
       "    </tr>\n",
       "  </tbody>\n",
       "</table>\n",
       "</div>"
      ],
      "text/plain": [
       "     Age               Employment Type  GraduateOrNot  AnnualIncome  \\\n",
       "0    NaN             Government Sector            0.0      400000.0   \n",
       "1   31.0  Private Sector/Self Employed            0.0     1250000.0   \n",
       "2    NaN  Private Sector/Self Employed            0.0      500000.0   \n",
       "3   28.0  Private Sector/Self Employed            0.0      700000.0   \n",
       "4   28.0  Private Sector/Self Employed            0.0      700000.0   \n",
       "5   25.0  Private Sector/Self Employed            1.0     1150000.0   \n",
       "6   31.0             Government Sector            0.0     1300000.0   \n",
       "7   31.0  Private Sector/Self Employed            0.0     1350000.0   \n",
       "8   28.0  Private Sector/Self Employed            0.0     1450000.0   \n",
       "9   33.0             Government Sector            0.0      800000.0   \n",
       "10  31.0             Government Sector            0.0      400000.0   \n",
       "11  26.0  Private Sector/Self Employed            0.0     1400000.0   \n",
       "12  32.0             Government Sector            0.0      850000.0   \n",
       "13  31.0             Government Sector            0.0           NaN   \n",
       "14  31.0             Government Sector            0.0      400000.0   \n",
       "\n",
       "    FamilyMembers  ChronicDiseases  FrequentFlyer  EverTravelledAbroad  \\\n",
       "0             6.0              1.0            0.0                  0.0   \n",
       "1             7.0              0.0            0.0                  0.0   \n",
       "2             4.0              1.0            0.0                  0.0   \n",
       "3             3.0              1.0            0.0                  0.0   \n",
       "4             8.0              1.0            1.0                  NaN   \n",
       "5             4.0              0.0            NaN                  0.0   \n",
       "6             4.0              0.0            0.0                  0.0   \n",
       "7             3.0              0.0            1.0                  1.0   \n",
       "8             6.0              1.0            1.0                  1.0   \n",
       "9             3.0              0.0            1.0                  0.0   \n",
       "10            9.0              1.0            0.0                  0.0   \n",
       "11            5.0              0.0            1.0                  1.0   \n",
       "12            6.0              0.0            0.0                  0.0   \n",
       "13            6.0              0.0            1.0                  1.0   \n",
       "14            3.0              0.0            0.0                  0.0   \n",
       "\n",
       "    TravelInsurance  \n",
       "0                 0  \n",
       "1                 0  \n",
       "2                 1  \n",
       "3                 0  \n",
       "4                 0  \n",
       "5                 0  \n",
       "6                 0  \n",
       "7                 1  \n",
       "8                 1  \n",
       "9                 0  \n",
       "10                0  \n",
       "11                1  \n",
       "12                1  \n",
       "13                1  \n",
       "14                0  "
      ]
     },
     "execution_count": 10,
     "metadata": {},
     "output_type": "execute_result"
    }
   ],
   "source": [
    "data.head(15)  # Визуально проверяем None-элементы"
   ]
  },
  {
   "cell_type": "code",
   "execution_count": 11,
   "id": "4847c439",
   "metadata": {},
   "outputs": [
    {
     "data": {
      "text/plain": [
       "Age                    55\n",
       "Employment Type        54\n",
       "GraduateOrNot          58\n",
       "AnnualIncome           69\n",
       "FamilyMembers          65\n",
       "ChronicDiseases        51\n",
       "FrequentFlyer          66\n",
       "EverTravelledAbroad    54\n",
       "TravelInsurance         0\n",
       "dtype: int64"
      ]
     },
     "execution_count": 11,
     "metadata": {},
     "output_type": "execute_result"
    }
   ],
   "source": [
    "data.isna().sum()  # Число пропущенных значений"
   ]
  },
  {
   "cell_type": "code",
   "execution_count": 12,
   "id": "4ab66b5e",
   "metadata": {},
   "outputs": [
    {
     "data": {
      "text/plain": [
       "Age                    1932\n",
       "Employment Type        1933\n",
       "GraduateOrNot          1929\n",
       "AnnualIncome           1918\n",
       "FamilyMembers          1922\n",
       "ChronicDiseases        1936\n",
       "FrequentFlyer          1921\n",
       "EverTravelledAbroad    1933\n",
       "TravelInsurance        1987\n",
       "dtype: int64"
      ]
     },
     "execution_count": 12,
     "metadata": {},
     "output_type": "execute_result"
    }
   ],
   "source": [
    "data.count()"
   ]
  },
  {
   "cell_type": "markdown",
   "id": "10dd513e",
   "metadata": {},
   "source": [
    "## Заполняем пропущенные значения медианными"
   ]
  },
  {
   "cell_type": "code",
   "execution_count": 13,
   "id": "bf7189a3",
   "metadata": {},
   "outputs": [
    {
     "data": {
      "text/html": [
       "<div>\n",
       "<style scoped>\n",
       "    .dataframe tbody tr th:only-of-type {\n",
       "        vertical-align: middle;\n",
       "    }\n",
       "\n",
       "    .dataframe tbody tr th {\n",
       "        vertical-align: top;\n",
       "    }\n",
       "\n",
       "    .dataframe thead th {\n",
       "        text-align: right;\n",
       "    }\n",
       "</style>\n",
       "<table border=\"1\" class=\"dataframe\">\n",
       "  <thead>\n",
       "    <tr style=\"text-align: right;\">\n",
       "      <th></th>\n",
       "      <th>Age</th>\n",
       "      <th>Employment Type</th>\n",
       "      <th>GraduateOrNot</th>\n",
       "      <th>AnnualIncome</th>\n",
       "      <th>FamilyMembers</th>\n",
       "      <th>ChronicDiseases</th>\n",
       "      <th>FrequentFlyer</th>\n",
       "      <th>EverTravelledAbroad</th>\n",
       "      <th>TravelInsurance</th>\n",
       "    </tr>\n",
       "  </thead>\n",
       "  <tbody>\n",
       "    <tr>\n",
       "      <th>0</th>\n",
       "      <td>29</td>\n",
       "      <td>Government Sector</td>\n",
       "      <td>0</td>\n",
       "      <td>400000</td>\n",
       "      <td>6</td>\n",
       "      <td>1</td>\n",
       "      <td>0</td>\n",
       "      <td>0</td>\n",
       "      <td>0</td>\n",
       "    </tr>\n",
       "    <tr>\n",
       "      <th>1</th>\n",
       "      <td>31</td>\n",
       "      <td>Private Sector/Self Employed</td>\n",
       "      <td>0</td>\n",
       "      <td>1250000</td>\n",
       "      <td>7</td>\n",
       "      <td>0</td>\n",
       "      <td>0</td>\n",
       "      <td>0</td>\n",
       "      <td>0</td>\n",
       "    </tr>\n",
       "    <tr>\n",
       "      <th>2</th>\n",
       "      <td>29</td>\n",
       "      <td>Private Sector/Self Employed</td>\n",
       "      <td>0</td>\n",
       "      <td>500000</td>\n",
       "      <td>4</td>\n",
       "      <td>1</td>\n",
       "      <td>0</td>\n",
       "      <td>0</td>\n",
       "      <td>1</td>\n",
       "    </tr>\n",
       "    <tr>\n",
       "      <th>3</th>\n",
       "      <td>28</td>\n",
       "      <td>Private Sector/Self Employed</td>\n",
       "      <td>0</td>\n",
       "      <td>700000</td>\n",
       "      <td>3</td>\n",
       "      <td>1</td>\n",
       "      <td>0</td>\n",
       "      <td>0</td>\n",
       "      <td>0</td>\n",
       "    </tr>\n",
       "    <tr>\n",
       "      <th>4</th>\n",
       "      <td>28</td>\n",
       "      <td>Private Sector/Self Employed</td>\n",
       "      <td>0</td>\n",
       "      <td>700000</td>\n",
       "      <td>8</td>\n",
       "      <td>1</td>\n",
       "      <td>1</td>\n",
       "      <td>0</td>\n",
       "      <td>0</td>\n",
       "    </tr>\n",
       "    <tr>\n",
       "      <th>5</th>\n",
       "      <td>25</td>\n",
       "      <td>Private Sector/Self Employed</td>\n",
       "      <td>1</td>\n",
       "      <td>1150000</td>\n",
       "      <td>4</td>\n",
       "      <td>0</td>\n",
       "      <td>0</td>\n",
       "      <td>0</td>\n",
       "      <td>0</td>\n",
       "    </tr>\n",
       "    <tr>\n",
       "      <th>6</th>\n",
       "      <td>31</td>\n",
       "      <td>Government Sector</td>\n",
       "      <td>0</td>\n",
       "      <td>1300000</td>\n",
       "      <td>4</td>\n",
       "      <td>0</td>\n",
       "      <td>0</td>\n",
       "      <td>0</td>\n",
       "      <td>0</td>\n",
       "    </tr>\n",
       "    <tr>\n",
       "      <th>7</th>\n",
       "      <td>31</td>\n",
       "      <td>Private Sector/Self Employed</td>\n",
       "      <td>0</td>\n",
       "      <td>1350000</td>\n",
       "      <td>3</td>\n",
       "      <td>0</td>\n",
       "      <td>1</td>\n",
       "      <td>1</td>\n",
       "      <td>1</td>\n",
       "    </tr>\n",
       "    <tr>\n",
       "      <th>8</th>\n",
       "      <td>28</td>\n",
       "      <td>Private Sector/Self Employed</td>\n",
       "      <td>0</td>\n",
       "      <td>1450000</td>\n",
       "      <td>6</td>\n",
       "      <td>1</td>\n",
       "      <td>1</td>\n",
       "      <td>1</td>\n",
       "      <td>1</td>\n",
       "    </tr>\n",
       "    <tr>\n",
       "      <th>9</th>\n",
       "      <td>33</td>\n",
       "      <td>Government Sector</td>\n",
       "      <td>0</td>\n",
       "      <td>800000</td>\n",
       "      <td>3</td>\n",
       "      <td>0</td>\n",
       "      <td>1</td>\n",
       "      <td>0</td>\n",
       "      <td>0</td>\n",
       "    </tr>\n",
       "    <tr>\n",
       "      <th>10</th>\n",
       "      <td>31</td>\n",
       "      <td>Government Sector</td>\n",
       "      <td>0</td>\n",
       "      <td>400000</td>\n",
       "      <td>9</td>\n",
       "      <td>1</td>\n",
       "      <td>0</td>\n",
       "      <td>0</td>\n",
       "      <td>0</td>\n",
       "    </tr>\n",
       "    <tr>\n",
       "      <th>11</th>\n",
       "      <td>26</td>\n",
       "      <td>Private Sector/Self Employed</td>\n",
       "      <td>0</td>\n",
       "      <td>1400000</td>\n",
       "      <td>5</td>\n",
       "      <td>0</td>\n",
       "      <td>1</td>\n",
       "      <td>1</td>\n",
       "      <td>1</td>\n",
       "    </tr>\n",
       "    <tr>\n",
       "      <th>12</th>\n",
       "      <td>32</td>\n",
       "      <td>Government Sector</td>\n",
       "      <td>0</td>\n",
       "      <td>850000</td>\n",
       "      <td>6</td>\n",
       "      <td>0</td>\n",
       "      <td>0</td>\n",
       "      <td>0</td>\n",
       "      <td>1</td>\n",
       "    </tr>\n",
       "    <tr>\n",
       "      <th>13</th>\n",
       "      <td>31</td>\n",
       "      <td>Government Sector</td>\n",
       "      <td>0</td>\n",
       "      <td>900000</td>\n",
       "      <td>6</td>\n",
       "      <td>0</td>\n",
       "      <td>1</td>\n",
       "      <td>1</td>\n",
       "      <td>1</td>\n",
       "    </tr>\n",
       "    <tr>\n",
       "      <th>14</th>\n",
       "      <td>31</td>\n",
       "      <td>Government Sector</td>\n",
       "      <td>0</td>\n",
       "      <td>400000</td>\n",
       "      <td>3</td>\n",
       "      <td>0</td>\n",
       "      <td>0</td>\n",
       "      <td>0</td>\n",
       "      <td>0</td>\n",
       "    </tr>\n",
       "  </tbody>\n",
       "</table>\n",
       "</div>"
      ],
      "text/plain": [
       "    Age               Employment Type  GraduateOrNot  AnnualIncome  \\\n",
       "0    29             Government Sector              0        400000   \n",
       "1    31  Private Sector/Self Employed              0       1250000   \n",
       "2    29  Private Sector/Self Employed              0        500000   \n",
       "3    28  Private Sector/Self Employed              0        700000   \n",
       "4    28  Private Sector/Self Employed              0        700000   \n",
       "5    25  Private Sector/Self Employed              1       1150000   \n",
       "6    31             Government Sector              0       1300000   \n",
       "7    31  Private Sector/Self Employed              0       1350000   \n",
       "8    28  Private Sector/Self Employed              0       1450000   \n",
       "9    33             Government Sector              0        800000   \n",
       "10   31             Government Sector              0        400000   \n",
       "11   26  Private Sector/Self Employed              0       1400000   \n",
       "12   32             Government Sector              0        850000   \n",
       "13   31             Government Sector              0        900000   \n",
       "14   31             Government Sector              0        400000   \n",
       "\n",
       "    FamilyMembers  ChronicDiseases  FrequentFlyer  EverTravelledAbroad  \\\n",
       "0               6                1              0                    0   \n",
       "1               7                0              0                    0   \n",
       "2               4                1              0                    0   \n",
       "3               3                1              0                    0   \n",
       "4               8                1              1                    0   \n",
       "5               4                0              0                    0   \n",
       "6               4                0              0                    0   \n",
       "7               3                0              1                    1   \n",
       "8               6                1              1                    1   \n",
       "9               3                0              1                    0   \n",
       "10              9                1              0                    0   \n",
       "11              5                0              1                    1   \n",
       "12              6                0              0                    0   \n",
       "13              6                0              1                    1   \n",
       "14              3                0              0                    0   \n",
       "\n",
       "    TravelInsurance  \n",
       "0                 0  \n",
       "1                 0  \n",
       "2                 1  \n",
       "3                 0  \n",
       "4                 0  \n",
       "5                 0  \n",
       "6                 0  \n",
       "7                 1  \n",
       "8                 1  \n",
       "9                 0  \n",
       "10                0  \n",
       "11                1  \n",
       "12                1  \n",
       "13                1  \n",
       "14                0  "
      ]
     },
     "execution_count": 13,
     "metadata": {},
     "output_type": "execute_result"
    }
   ],
   "source": [
    "category = data.describe(include=[\"category\"])\n",
    "\n",
    "# Исправляем категориальные признаки\n",
    "data[\"Employment Type\"].fillna(category[\"Employment Type\"].top, inplace = True)\n",
    "\n",
    "# Исправляем численные признаки\n",
    "data[\"Age\"].fillna(data[\"Age\"].median(axis = 0), inplace = True)\n",
    "data[\"AnnualIncome\"].fillna(data[\"AnnualIncome\"].median(axis = 0), inplace = True)\n",
    "data[\"FamilyMembers\"].fillna(data[\"FamilyMembers\"].median(axis = 0), inplace = True)\n",
    "data[\"ChronicDiseases\"].fillna(data[\"ChronicDiseases\"].median(axis = 0), inplace = True)\n",
    "\n",
    "data[\"GraduateOrNot\"].fillna(data[\"GraduateOrNot\"].median(axis = 0), inplace = True)\n",
    "data[\"FrequentFlyer\"].fillna(data[\"FrequentFlyer\"].median(axis = 0), inplace = True)\n",
    "data[\"EverTravelledAbroad\"].fillna(data[\"EverTravelledAbroad\"].median(axis = 0), inplace = True)\n",
    "\n",
    "# После имитации пропущенных значений, некоторые признаки стали типом float из-за наличия None-значений\n",
    "# Возвращаем к исходному\n",
    "data[\"Age\"] = data[\"Age\"].astype(\"int64\")\n",
    "data[\"AnnualIncome\"] = data[\"AnnualIncome\"].astype(\"int64\")\n",
    "data[\"FamilyMembers\"] = data[\"FamilyMembers\"].astype(\"int64\")\n",
    "data[\"ChronicDiseases\"] = data[\"ChronicDiseases\"].astype(\"int64\")\n",
    "\n",
    "data[\"GraduateOrNot\"] = data[\"GraduateOrNot\"].astype(\"int64\")\n",
    "data[\"FrequentFlyer\"] = data[\"FrequentFlyer\"].astype(\"int64\")\n",
    "data[\"EverTravelledAbroad\"] = data[\"EverTravelledAbroad\"].astype(\"int64\")\n",
    "\n",
    "data[\"TravelInsurance\"] = data[\"TravelInsurance\"].astype(\"int64\")\n",
    "\n",
    "data.head(15)  # Визуально проверяем отсуствие None-элементов"
   ]
  },
  {
   "cell_type": "code",
   "execution_count": 14,
   "id": "5ab63c5d",
   "metadata": {},
   "outputs": [
    {
     "data": {
      "text/plain": [
       "Age                    0\n",
       "Employment Type        0\n",
       "GraduateOrNot          0\n",
       "AnnualIncome           0\n",
       "FamilyMembers          0\n",
       "ChronicDiseases        0\n",
       "FrequentFlyer          0\n",
       "EverTravelledAbroad    0\n",
       "TravelInsurance        0\n",
       "dtype: int64"
      ]
     },
     "execution_count": 14,
     "metadata": {},
     "output_type": "execute_result"
    }
   ],
   "source": [
    "data.isna().sum()  # Число пропущенных значений"
   ]
  },
  {
   "cell_type": "markdown",
   "id": "d42c6c25",
   "metadata": {},
   "source": [
    "Больше пропущенных значений нет."
   ]
  },
  {
   "cell_type": "markdown",
   "id": "5579df39",
   "metadata": {},
   "source": [
    "## Визуализация данных. Подсчёт основных характеристик"
   ]
  },
  {
   "cell_type": "markdown",
   "id": "f2ad4a17",
   "metadata": {},
   "source": [
    "### Исследование количественных признаков"
   ]
  },
  {
   "cell_type": "code",
   "execution_count": 15,
   "id": "d8ac0821",
   "metadata": {},
   "outputs": [
    {
     "data": {
      "text/html": [
       "<div>\n",
       "<style scoped>\n",
       "    .dataframe tbody tr th:only-of-type {\n",
       "        vertical-align: middle;\n",
       "    }\n",
       "\n",
       "    .dataframe tbody tr th {\n",
       "        vertical-align: top;\n",
       "    }\n",
       "\n",
       "    .dataframe thead th {\n",
       "        text-align: right;\n",
       "    }\n",
       "</style>\n",
       "<table border=\"1\" class=\"dataframe\">\n",
       "  <thead>\n",
       "    <tr style=\"text-align: right;\">\n",
       "      <th></th>\n",
       "      <th>Age</th>\n",
       "      <th>GraduateOrNot</th>\n",
       "      <th>AnnualIncome</th>\n",
       "      <th>FamilyMembers</th>\n",
       "      <th>ChronicDiseases</th>\n",
       "      <th>FrequentFlyer</th>\n",
       "      <th>EverTravelledAbroad</th>\n",
       "      <th>TravelInsurance</th>\n",
       "    </tr>\n",
       "  </thead>\n",
       "  <tbody>\n",
       "    <tr>\n",
       "      <th>count</th>\n",
       "      <td>1987.000000</td>\n",
       "      <td>1987.000000</td>\n",
       "      <td>1.987000e+03</td>\n",
       "      <td>1987.000000</td>\n",
       "      <td>1987.000000</td>\n",
       "      <td>1987.000000</td>\n",
       "      <td>1987.000000</td>\n",
       "      <td>1987.000000</td>\n",
       "    </tr>\n",
       "    <tr>\n",
       "      <th>mean</th>\n",
       "      <td>29.623050</td>\n",
       "      <td>0.142426</td>\n",
       "      <td>9.346502e+05</td>\n",
       "      <td>4.755410</td>\n",
       "      <td>0.269753</td>\n",
       "      <td>0.201309</td>\n",
       "      <td>0.185204</td>\n",
       "      <td>0.357323</td>\n",
       "    </tr>\n",
       "    <tr>\n",
       "      <th>std</th>\n",
       "      <td>2.874574</td>\n",
       "      <td>0.349574</td>\n",
       "      <td>3.718451e+05</td>\n",
       "      <td>1.585294</td>\n",
       "      <td>0.443943</td>\n",
       "      <td>0.401079</td>\n",
       "      <td>0.388561</td>\n",
       "      <td>0.479332</td>\n",
       "    </tr>\n",
       "    <tr>\n",
       "      <th>min</th>\n",
       "      <td>25.000000</td>\n",
       "      <td>0.000000</td>\n",
       "      <td>3.000000e+05</td>\n",
       "      <td>2.000000</td>\n",
       "      <td>0.000000</td>\n",
       "      <td>0.000000</td>\n",
       "      <td>0.000000</td>\n",
       "      <td>0.000000</td>\n",
       "    </tr>\n",
       "    <tr>\n",
       "      <th>25%</th>\n",
       "      <td>28.000000</td>\n",
       "      <td>0.000000</td>\n",
       "      <td>6.000000e+05</td>\n",
       "      <td>4.000000</td>\n",
       "      <td>0.000000</td>\n",
       "      <td>0.000000</td>\n",
       "      <td>0.000000</td>\n",
       "      <td>0.000000</td>\n",
       "    </tr>\n",
       "    <tr>\n",
       "      <th>50%</th>\n",
       "      <td>29.000000</td>\n",
       "      <td>0.000000</td>\n",
       "      <td>9.000000e+05</td>\n",
       "      <td>5.000000</td>\n",
       "      <td>0.000000</td>\n",
       "      <td>0.000000</td>\n",
       "      <td>0.000000</td>\n",
       "      <td>0.000000</td>\n",
       "    </tr>\n",
       "    <tr>\n",
       "      <th>75%</th>\n",
       "      <td>32.000000</td>\n",
       "      <td>0.000000</td>\n",
       "      <td>1.250000e+06</td>\n",
       "      <td>6.000000</td>\n",
       "      <td>1.000000</td>\n",
       "      <td>0.000000</td>\n",
       "      <td>0.000000</td>\n",
       "      <td>1.000000</td>\n",
       "    </tr>\n",
       "    <tr>\n",
       "      <th>max</th>\n",
       "      <td>35.000000</td>\n",
       "      <td>1.000000</td>\n",
       "      <td>1.800000e+06</td>\n",
       "      <td>9.000000</td>\n",
       "      <td>1.000000</td>\n",
       "      <td>1.000000</td>\n",
       "      <td>1.000000</td>\n",
       "      <td>1.000000</td>\n",
       "    </tr>\n",
       "  </tbody>\n",
       "</table>\n",
       "</div>"
      ],
      "text/plain": [
       "               Age  GraduateOrNot  AnnualIncome  FamilyMembers  \\\n",
       "count  1987.000000    1987.000000  1.987000e+03    1987.000000   \n",
       "mean     29.623050       0.142426  9.346502e+05       4.755410   \n",
       "std       2.874574       0.349574  3.718451e+05       1.585294   \n",
       "min      25.000000       0.000000  3.000000e+05       2.000000   \n",
       "25%      28.000000       0.000000  6.000000e+05       4.000000   \n",
       "50%      29.000000       0.000000  9.000000e+05       5.000000   \n",
       "75%      32.000000       0.000000  1.250000e+06       6.000000   \n",
       "max      35.000000       1.000000  1.800000e+06       9.000000   \n",
       "\n",
       "       ChronicDiseases  FrequentFlyer  EverTravelledAbroad  TravelInsurance  \n",
       "count      1987.000000    1987.000000          1987.000000      1987.000000  \n",
       "mean          0.269753       0.201309             0.185204         0.357323  \n",
       "std           0.443943       0.401079             0.388561         0.479332  \n",
       "min           0.000000       0.000000             0.000000         0.000000  \n",
       "25%           0.000000       0.000000             0.000000         0.000000  \n",
       "50%           0.000000       0.000000             0.000000         0.000000  \n",
       "75%           1.000000       0.000000             0.000000         1.000000  \n",
       "max           1.000000       1.000000             1.000000         1.000000  "
      ]
     },
     "execution_count": 15,
     "metadata": {},
     "output_type": "execute_result"
    }
   ],
   "source": [
    "data.describe()"
   ]
  },
  {
   "cell_type": "markdown",
   "id": "5c842b65",
   "metadata": {},
   "source": [
    "- Средний возраст клиентов - 29-30 лет;\n",
    "- Только 15% клиентов имеют высшее образование;\n",
    "- Средняя зарплата клиентов - 933014.6 рупий;\n",
    "- Среднее число членов семьи клиента - 5;\n",
    "- 27% клиентов имеют хронические заболевания;\n",
    "- 20% пользовались услугами компании ранее;\n",
    "- Только 18.5% клиентов бывали ранее в других странах;\n",
    "- 36% клиентов приобретали предлагаемую страхову."
   ]
  },
  {
   "cell_type": "markdown",
   "id": "2bff0a1c",
   "metadata": {},
   "source": [
    "### Исследование категориальных признаков"
   ]
  },
  {
   "cell_type": "code",
   "execution_count": 16,
   "id": "5e7b966f",
   "metadata": {},
   "outputs": [
    {
     "data": {
      "text/html": [
       "<div>\n",
       "<style scoped>\n",
       "    .dataframe tbody tr th:only-of-type {\n",
       "        vertical-align: middle;\n",
       "    }\n",
       "\n",
       "    .dataframe tbody tr th {\n",
       "        vertical-align: top;\n",
       "    }\n",
       "\n",
       "    .dataframe thead th {\n",
       "        text-align: right;\n",
       "    }\n",
       "</style>\n",
       "<table border=\"1\" class=\"dataframe\">\n",
       "  <thead>\n",
       "    <tr style=\"text-align: right;\">\n",
       "      <th></th>\n",
       "      <th>Employment Type</th>\n",
       "    </tr>\n",
       "  </thead>\n",
       "  <tbody>\n",
       "    <tr>\n",
       "      <th>count</th>\n",
       "      <td>1987</td>\n",
       "    </tr>\n",
       "    <tr>\n",
       "      <th>unique</th>\n",
       "      <td>2</td>\n",
       "    </tr>\n",
       "    <tr>\n",
       "      <th>top</th>\n",
       "      <td>Private Sector/Self Employed</td>\n",
       "    </tr>\n",
       "    <tr>\n",
       "      <th>freq</th>\n",
       "      <td>1428</td>\n",
       "    </tr>\n",
       "  </tbody>\n",
       "</table>\n",
       "</div>"
      ],
      "text/plain": [
       "                     Employment Type\n",
       "count                           1987\n",
       "unique                             2\n",
       "top     Private Sector/Self Employed\n",
       "freq                            1428"
      ]
     },
     "execution_count": 16,
     "metadata": {},
     "output_type": "execute_result"
    }
   ],
   "source": [
    "data.describe(include=['category'])"
   ]
  },
  {
   "cell_type": "markdown",
   "id": "8f100683",
   "metadata": {},
   "source": [
    "### Исследование корреляционной матрицы"
   ]
  },
  {
   "cell_type": "code",
   "execution_count": 17,
   "id": "e5275184",
   "metadata": {},
   "outputs": [
    {
     "data": {
      "text/html": [
       "<div>\n",
       "<style scoped>\n",
       "    .dataframe tbody tr th:only-of-type {\n",
       "        vertical-align: middle;\n",
       "    }\n",
       "\n",
       "    .dataframe tbody tr th {\n",
       "        vertical-align: top;\n",
       "    }\n",
       "\n",
       "    .dataframe thead th {\n",
       "        text-align: right;\n",
       "    }\n",
       "</style>\n",
       "<table border=\"1\" class=\"dataframe\">\n",
       "  <thead>\n",
       "    <tr style=\"text-align: right;\">\n",
       "      <th></th>\n",
       "      <th>Age</th>\n",
       "      <th>GraduateOrNot</th>\n",
       "      <th>AnnualIncome</th>\n",
       "      <th>FamilyMembers</th>\n",
       "      <th>ChronicDiseases</th>\n",
       "      <th>FrequentFlyer</th>\n",
       "      <th>EverTravelledAbroad</th>\n",
       "      <th>TravelInsurance</th>\n",
       "    </tr>\n",
       "  </thead>\n",
       "  <tbody>\n",
       "    <tr>\n",
       "      <th>Age</th>\n",
       "      <td>1.000000</td>\n",
       "      <td>-0.018702</td>\n",
       "      <td>-0.018794</td>\n",
       "      <td>0.016331</td>\n",
       "      <td>-0.004322</td>\n",
       "      <td>-0.045516</td>\n",
       "      <td>-0.005988</td>\n",
       "      <td>0.059433</td>\n",
       "    </tr>\n",
       "    <tr>\n",
       "      <th>GraduateOrNot</th>\n",
       "      <td>-0.018702</td>\n",
       "      <td>1.000000</td>\n",
       "      <td>-0.095896</td>\n",
       "      <td>-0.016156</td>\n",
       "      <td>-0.023816</td>\n",
       "      <td>0.028837</td>\n",
       "      <td>-0.053428</td>\n",
       "      <td>-0.018398</td>\n",
       "    </tr>\n",
       "    <tr>\n",
       "      <th>AnnualIncome</th>\n",
       "      <td>-0.018794</td>\n",
       "      <td>-0.095896</td>\n",
       "      <td>1.000000</td>\n",
       "      <td>-0.016110</td>\n",
       "      <td>0.003134</td>\n",
       "      <td>0.347546</td>\n",
       "      <td>0.465066</td>\n",
       "      <td>0.390838</td>\n",
       "    </tr>\n",
       "    <tr>\n",
       "      <th>FamilyMembers</th>\n",
       "      <td>0.016331</td>\n",
       "      <td>-0.016156</td>\n",
       "      <td>-0.016110</td>\n",
       "      <td>1.000000</td>\n",
       "      <td>0.032983</td>\n",
       "      <td>-0.022304</td>\n",
       "      <td>-0.020428</td>\n",
       "      <td>0.086579</td>\n",
       "    </tr>\n",
       "    <tr>\n",
       "      <th>ChronicDiseases</th>\n",
       "      <td>-0.004322</td>\n",
       "      <td>-0.023816</td>\n",
       "      <td>0.003134</td>\n",
       "      <td>0.032983</td>\n",
       "      <td>1.000000</td>\n",
       "      <td>-0.036484</td>\n",
       "      <td>0.025485</td>\n",
       "      <td>0.017688</td>\n",
       "    </tr>\n",
       "    <tr>\n",
       "      <th>FrequentFlyer</th>\n",
       "      <td>-0.045516</td>\n",
       "      <td>0.028837</td>\n",
       "      <td>0.347546</td>\n",
       "      <td>-0.022304</td>\n",
       "      <td>-0.036484</td>\n",
       "      <td>1.000000</td>\n",
       "      <td>0.258214</td>\n",
       "      <td>0.225430</td>\n",
       "    </tr>\n",
       "    <tr>\n",
       "      <th>EverTravelledAbroad</th>\n",
       "      <td>-0.005988</td>\n",
       "      <td>-0.053428</td>\n",
       "      <td>0.465066</td>\n",
       "      <td>-0.020428</td>\n",
       "      <td>0.025485</td>\n",
       "      <td>0.258214</td>\n",
       "      <td>1.000000</td>\n",
       "      <td>0.420408</td>\n",
       "    </tr>\n",
       "    <tr>\n",
       "      <th>TravelInsurance</th>\n",
       "      <td>0.059433</td>\n",
       "      <td>-0.018398</td>\n",
       "      <td>0.390838</td>\n",
       "      <td>0.086579</td>\n",
       "      <td>0.017688</td>\n",
       "      <td>0.225430</td>\n",
       "      <td>0.420408</td>\n",
       "      <td>1.000000</td>\n",
       "    </tr>\n",
       "  </tbody>\n",
       "</table>\n",
       "</div>"
      ],
      "text/plain": [
       "                          Age  GraduateOrNot  AnnualIncome  FamilyMembers  \\\n",
       "Age                  1.000000      -0.018702     -0.018794       0.016331   \n",
       "GraduateOrNot       -0.018702       1.000000     -0.095896      -0.016156   \n",
       "AnnualIncome        -0.018794      -0.095896      1.000000      -0.016110   \n",
       "FamilyMembers        0.016331      -0.016156     -0.016110       1.000000   \n",
       "ChronicDiseases     -0.004322      -0.023816      0.003134       0.032983   \n",
       "FrequentFlyer       -0.045516       0.028837      0.347546      -0.022304   \n",
       "EverTravelledAbroad -0.005988      -0.053428      0.465066      -0.020428   \n",
       "TravelInsurance      0.059433      -0.018398      0.390838       0.086579   \n",
       "\n",
       "                     ChronicDiseases  FrequentFlyer  EverTravelledAbroad  \\\n",
       "Age                        -0.004322      -0.045516            -0.005988   \n",
       "GraduateOrNot              -0.023816       0.028837            -0.053428   \n",
       "AnnualIncome                0.003134       0.347546             0.465066   \n",
       "FamilyMembers               0.032983      -0.022304            -0.020428   \n",
       "ChronicDiseases             1.000000      -0.036484             0.025485   \n",
       "FrequentFlyer              -0.036484       1.000000             0.258214   \n",
       "EverTravelledAbroad         0.025485       0.258214             1.000000   \n",
       "TravelInsurance             0.017688       0.225430             0.420408   \n",
       "\n",
       "                     TravelInsurance  \n",
       "Age                         0.059433  \n",
       "GraduateOrNot              -0.018398  \n",
       "AnnualIncome                0.390838  \n",
       "FamilyMembers               0.086579  \n",
       "ChronicDiseases             0.017688  \n",
       "FrequentFlyer               0.225430  \n",
       "EverTravelledAbroad         0.420408  \n",
       "TravelInsurance             1.000000  "
      ]
     },
     "execution_count": 17,
     "metadata": {},
     "output_type": "execute_result"
    }
   ],
   "source": [
    "corrMat = data.corr(numeric_only=True)\n",
    "\n",
    "corrMat"
   ]
  },
  {
   "cell_type": "code",
   "execution_count": 18,
   "id": "75f519a0",
   "metadata": {},
   "outputs": [
    {
     "data": {
      "text/plain": [
       "<AxesSubplot:>"
      ]
     },
     "execution_count": 18,
     "metadata": {},
     "output_type": "execute_result"
    },
    {
     "data": {
      "image/png": "[encoded data removed]",
      "text/plain": [
       "<Figure size 640x480 with 2 Axes>"
      ]
     },
     "metadata": {},
     "output_type": "display_data"
    }
   ],
   "source": [
    "import seaborn\n",
    "\n",
    "# Пробуем построить график корреляции по таблице\n",
    "seaborn.heatmap(corrMat,\n",
    "                vmin=-1.0,\n",
    "                vmax=1.0)"
   ]
  },
  {
   "cell_type": "markdown",
   "id": "34977636",
   "metadata": {},
   "source": [
    "Были замечены довольно светлые участки корреляции на графике: AnnualIncome-EverTravelledAbroad и EverTravelledAbroad-TravelInsurance. Изучим конкретные значения."
   ]
  },
  {
   "cell_type": "code",
   "execution_count": 19,
   "id": "0a91b9f2",
   "metadata": {},
   "outputs": [
    {
     "data": {
      "text/plain": [
       "0.46506567456695724"
      ]
     },
     "execution_count": 19,
     "metadata": {},
     "output_type": "execute_result"
    }
   ],
   "source": [
    "corrMat[\"EverTravelledAbroad\"][\"AnnualIncome\"]"
   ]
  },
  {
   "cell_type": "markdown",
   "id": "7d89251e",
   "metadata": {},
   "source": [
    "Данное значение говорит о корреляционной зависимости данных параметров.\n",
    "EverTravelledAbroad - выезжал ли клиент когда-либо в другую страну.\n",
    "AnnualIncome - доход клиента.\n",
    "\n",
    "Эта зависимость объясняется довольно просто. Очевидно, чем больше доход у человека, тем больше свободных у него средств для осуществления путешествий в другие страны."
   ]
  },
  {
   "cell_type": "code",
   "execution_count": 20,
   "id": "d487f14f",
   "metadata": {},
   "outputs": [
    {
     "data": {
      "text/plain": [
       "0.42040808754920983"
      ]
     },
     "execution_count": 20,
     "metadata": {},
     "output_type": "execute_result"
    }
   ],
   "source": [
    "corrMat[\"EverTravelledAbroad\"][\"TravelInsurance\"]"
   ]
  },
  {
   "cell_type": "markdown",
   "id": "2292fd75",
   "metadata": {},
   "source": [
    "Данное значение также говорит о корреляционной зависимости.\n",
    "TravelInsurance - купил ли клиент пакет страхования путешествий.\n",
    "\n",
    "Эта зависимость объясняется корреляционной зависимостью выше. Маловероятно, что человек, небывавший в других странах, приобретет пакет страхования.\n",
    "\n",
    "Проверим также корреляционную зависимость TravelInsurance и AnnualIncome."
   ]
  },
  {
   "cell_type": "code",
   "execution_count": 21,
   "id": "10865d3e",
   "metadata": {},
   "outputs": [
    {
     "data": {
      "text/plain": [
       "0.3908377869758462"
      ]
     },
     "execution_count": 21,
     "metadata": {},
     "output_type": "execute_result"
    }
   ],
   "source": [
    "corrMat[\"TravelInsurance\"][\"AnnualIncome\"]"
   ]
  },
  {
   "cell_type": "markdown",
   "id": "5389261e",
   "metadata": {},
   "source": [
    "Значение, конечно, меньше, но корреляционная зависимость всё же присутвует. Чем выше доход у человека, тем выше его обеспокоенность за собственную жизнь - тем чаще он покупает пакет страхования."
   ]
  },
  {
   "cell_type": "code",
   "execution_count": 22,
   "id": "8a05edc2",
   "metadata": {},
   "outputs": [
    {
     "data": {
      "text/plain": [
       "0.3475461974256709"
      ]
     },
     "execution_count": 22,
     "metadata": {},
     "output_type": "execute_result"
    }
   ],
   "source": [
    "corrMat[\"FrequentFlyer\"][\"AnnualIncome\"]"
   ]
  },
  {
   "cell_type": "markdown",
   "id": "a0210594",
   "metadata": {},
   "source": [
    "Здесь также можно увидеть очевидную связь параметров.\n",
    "\n",
    "FrequentFlyer - часто ли клиент покупал авиабилеты за последние 2 года.\n",
    "\n",
    "Данная корреляция обуславливается связью EverTravelledAbroad и AnnualIncome параметров"
   ]
  },
  {
   "cell_type": "code",
   "execution_count": 23,
   "id": "98615fe1",
   "metadata": {},
   "outputs": [
    {
     "name": "stdout",
     "output_type": "stream",
     "text": [
      "0.017687785259168066\n",
      "0.05943253329732131\n"
     ]
    }
   ],
   "source": [
    "print(corrMat[\"TravelInsurance\"][\"ChronicDiseases\"])\n",
    "print(corrMat[\"TravelInsurance\"][\"Age\"])"
   ]
  },
  {
   "cell_type": "markdown",
   "id": "c226d131",
   "metadata": {},
   "source": [
    "К моему удивлению, корреляционных зависимостей между данными параметрами не обнаружилось."
   ]
  },
  {
   "cell_type": "markdown",
   "id": "b16caaa2",
   "metadata": {},
   "source": [
    "## Сбалансированность классов"
   ]
  },
  {
   "cell_type": "code",
   "execution_count": 24,
   "id": "d9a9ee38",
   "metadata": {},
   "outputs": [
    {
     "name": "stdout",
     "output_type": "stream",
     "text": [
      "0.6426774031202819\n",
      "0.3573225968797182\n"
     ]
    },
    {
     "data": {
      "image/png": "[encoded data removed]",
      "text/plain": [
       "<Figure size 640x480 with 1 Axes>"
      ]
     },
     "metadata": {},
     "output_type": "display_data"
    }
   ],
   "source": [
    "import collections\n",
    "\n",
    "print(collections.Counter(data[\"TravelInsurance\"])[0]/data.shape[0])\n",
    "print(collections.Counter(data[\"TravelInsurance\"])[1]/data.shape[0])\n",
    "\n",
    "data[\"TravelInsurance\"].value_counts().plot.pie();"
   ]
  },
  {
   "cell_type": "markdown",
   "id": "68babdc8",
   "metadata": {},
   "source": [
    "Классы несбалансированны. Соотношение составляет 65 к 35."
   ]
  },
  {
   "cell_type": "markdown",
   "id": "667b0f91",
   "metadata": {},
   "source": [
    "## Дополнительная обработка категориальных признаков\n",
    "\n",
    "Yes/No признаки в начале были отформатированы как бинарные. Остался признак Employment Type, который также является бинарным, можно перевести его в тип int64."
   ]
  },
  {
   "cell_type": "code",
   "execution_count": 25,
   "id": "825eef99",
   "metadata": {},
   "outputs": [
    {
     "data": {
      "text/html": [
       "<div>\n",
       "<style scoped>\n",
       "    .dataframe tbody tr th:only-of-type {\n",
       "        vertical-align: middle;\n",
       "    }\n",
       "\n",
       "    .dataframe tbody tr th {\n",
       "        vertical-align: top;\n",
       "    }\n",
       "\n",
       "    .dataframe thead th {\n",
       "        text-align: right;\n",
       "    }\n",
       "</style>\n",
       "<table border=\"1\" class=\"dataframe\">\n",
       "  <thead>\n",
       "    <tr style=\"text-align: right;\">\n",
       "      <th></th>\n",
       "      <th>Age</th>\n",
       "      <th>Employment Type</th>\n",
       "      <th>GraduateOrNot</th>\n",
       "      <th>AnnualIncome</th>\n",
       "      <th>FamilyMembers</th>\n",
       "      <th>ChronicDiseases</th>\n",
       "      <th>FrequentFlyer</th>\n",
       "      <th>EverTravelledAbroad</th>\n",
       "      <th>TravelInsurance</th>\n",
       "    </tr>\n",
       "  </thead>\n",
       "  <tbody>\n",
       "    <tr>\n",
       "      <th>0</th>\n",
       "      <td>29</td>\n",
       "      <td>0</td>\n",
       "      <td>0</td>\n",
       "      <td>400000</td>\n",
       "      <td>6</td>\n",
       "      <td>1</td>\n",
       "      <td>0</td>\n",
       "      <td>0</td>\n",
       "      <td>0</td>\n",
       "    </tr>\n",
       "    <tr>\n",
       "      <th>1</th>\n",
       "      <td>31</td>\n",
       "      <td>1</td>\n",
       "      <td>0</td>\n",
       "      <td>1250000</td>\n",
       "      <td>7</td>\n",
       "      <td>0</td>\n",
       "      <td>0</td>\n",
       "      <td>0</td>\n",
       "      <td>0</td>\n",
       "    </tr>\n",
       "    <tr>\n",
       "      <th>2</th>\n",
       "      <td>29</td>\n",
       "      <td>1</td>\n",
       "      <td>0</td>\n",
       "      <td>500000</td>\n",
       "      <td>4</td>\n",
       "      <td>1</td>\n",
       "      <td>0</td>\n",
       "      <td>0</td>\n",
       "      <td>1</td>\n",
       "    </tr>\n",
       "    <tr>\n",
       "      <th>3</th>\n",
       "      <td>28</td>\n",
       "      <td>1</td>\n",
       "      <td>0</td>\n",
       "      <td>700000</td>\n",
       "      <td>3</td>\n",
       "      <td>1</td>\n",
       "      <td>0</td>\n",
       "      <td>0</td>\n",
       "      <td>0</td>\n",
       "    </tr>\n",
       "    <tr>\n",
       "      <th>4</th>\n",
       "      <td>28</td>\n",
       "      <td>1</td>\n",
       "      <td>0</td>\n",
       "      <td>700000</td>\n",
       "      <td>8</td>\n",
       "      <td>1</td>\n",
       "      <td>1</td>\n",
       "      <td>0</td>\n",
       "      <td>0</td>\n",
       "    </tr>\n",
       "  </tbody>\n",
       "</table>\n",
       "</div>"
      ],
      "text/plain": [
       "   Age  Employment Type  GraduateOrNot  AnnualIncome  FamilyMembers  \\\n",
       "0   29                0              0        400000              6   \n",
       "1   31                1              0       1250000              7   \n",
       "2   29                1              0        500000              4   \n",
       "3   28                1              0        700000              3   \n",
       "4   28                1              0        700000              8   \n",
       "\n",
       "   ChronicDiseases  FrequentFlyer  EverTravelledAbroad  TravelInsurance  \n",
       "0                1              0                    0                0  \n",
       "1                0              0                    0                0  \n",
       "2                1              0                    0                1  \n",
       "3                1              0                    0                0  \n",
       "4                1              1                    0                0  "
      ]
     },
     "execution_count": 25,
     "metadata": {},
     "output_type": "execute_result"
    }
   ],
   "source": [
    "data[\"Employment Type\"] = pandas.factorize(data[\"Employment Type\"])[0]\n",
    "\n",
    "data.head(5)  # Визуально проверяем форматирование"
   ]
  },
  {
   "cell_type": "markdown",
   "id": "9b5c7040",
   "metadata": {},
   "source": [
    "## Нормализация данных"
   ]
  },
  {
   "cell_type": "markdown",
   "id": "98f81cf3",
   "metadata": {},
   "source": [
    "Нормализация позволяет значительно повысить скорость сходимости алгоритма обучения нейронной сети. Если не провести нормализацию, то входные данные будут оказывать дополнительное влияние на нейрон, что может привести к неверным решениям.\n",
    "\n",
    "В целях повышения точности классификации, нормализуем данные нашей таблицы."
   ]
  },
  {
   "cell_type": "code",
   "execution_count": 26,
   "id": "2b05ff32",
   "metadata": {},
   "outputs": [
    {
     "data": {
      "text/html": [
       "<div>\n",
       "<style scoped>\n",
       "    .dataframe tbody tr th:only-of-type {\n",
       "        vertical-align: middle;\n",
       "    }\n",
       "\n",
       "    .dataframe tbody tr th {\n",
       "        vertical-align: top;\n",
       "    }\n",
       "\n",
       "    .dataframe thead th {\n",
       "        text-align: right;\n",
       "    }\n",
       "</style>\n",
       "<table border=\"1\" class=\"dataframe\">\n",
       "  <thead>\n",
       "    <tr style=\"text-align: right;\">\n",
       "      <th></th>\n",
       "      <th>Age</th>\n",
       "      <th>Employment Type</th>\n",
       "      <th>GraduateOrNot</th>\n",
       "      <th>AnnualIncome</th>\n",
       "      <th>FamilyMembers</th>\n",
       "      <th>ChronicDiseases</th>\n",
       "      <th>FrequentFlyer</th>\n",
       "      <th>EverTravelledAbroad</th>\n",
       "    </tr>\n",
       "  </thead>\n",
       "  <tbody>\n",
       "    <tr>\n",
       "      <th>0</th>\n",
       "      <td>-0.216745</td>\n",
       "      <td>-1.597897</td>\n",
       "      <td>-0.407426</td>\n",
       "      <td>-1.437830</td>\n",
       "      <td>0.785085</td>\n",
       "      <td>1.644909</td>\n",
       "      <td>-0.501917</td>\n",
       "      <td>-0.476641</td>\n",
       "    </tr>\n",
       "    <tr>\n",
       "      <th>1</th>\n",
       "      <td>0.479010</td>\n",
       "      <td>0.625507</td>\n",
       "      <td>-0.407426</td>\n",
       "      <td>0.848068</td>\n",
       "      <td>1.415882</td>\n",
       "      <td>-0.607630</td>\n",
       "      <td>-0.501917</td>\n",
       "      <td>-0.476641</td>\n",
       "    </tr>\n",
       "    <tr>\n",
       "      <th>2</th>\n",
       "      <td>-0.216745</td>\n",
       "      <td>0.625507</td>\n",
       "      <td>-0.407426</td>\n",
       "      <td>-1.168901</td>\n",
       "      <td>-0.476511</td>\n",
       "      <td>1.644909</td>\n",
       "      <td>-0.501917</td>\n",
       "      <td>-0.476641</td>\n",
       "    </tr>\n",
       "    <tr>\n",
       "      <th>3</th>\n",
       "      <td>-0.564623</td>\n",
       "      <td>0.625507</td>\n",
       "      <td>-0.407426</td>\n",
       "      <td>-0.631043</td>\n",
       "      <td>-1.107309</td>\n",
       "      <td>1.644909</td>\n",
       "      <td>-0.501917</td>\n",
       "      <td>-0.476641</td>\n",
       "    </tr>\n",
       "    <tr>\n",
       "      <th>4</th>\n",
       "      <td>-0.564623</td>\n",
       "      <td>0.625507</td>\n",
       "      <td>-0.407426</td>\n",
       "      <td>-0.631043</td>\n",
       "      <td>2.046680</td>\n",
       "      <td>1.644909</td>\n",
       "      <td>1.991357</td>\n",
       "      <td>-0.476641</td>\n",
       "    </tr>\n",
       "  </tbody>\n",
       "</table>\n",
       "</div>"
      ],
      "text/plain": [
       "        Age  Employment Type  GraduateOrNot  AnnualIncome  FamilyMembers  \\\n",
       "0 -0.216745        -1.597897      -0.407426     -1.437830       0.785085   \n",
       "1  0.479010         0.625507      -0.407426      0.848068       1.415882   \n",
       "2 -0.216745         0.625507      -0.407426     -1.168901      -0.476511   \n",
       "3 -0.564623         0.625507      -0.407426     -0.631043      -1.107309   \n",
       "4 -0.564623         0.625507      -0.407426     -0.631043       2.046680   \n",
       "\n",
       "   ChronicDiseases  FrequentFlyer  EverTravelledAbroad  \n",
       "0         1.644909      -0.501917            -0.476641  \n",
       "1        -0.607630      -0.501917            -0.476641  \n",
       "2         1.644909      -0.501917            -0.476641  \n",
       "3         1.644909      -0.501917            -0.476641  \n",
       "4         1.644909       1.991357            -0.476641  "
      ]
     },
     "execution_count": 26,
     "metadata": {},
     "output_type": "execute_result"
    }
   ],
   "source": [
    "# Исключаем столбец классов из данных\n",
    "classes = data[\"TravelInsurance\"]\n",
    "data = data.drop(\"TravelInsurance\", axis=1)\n",
    "\n",
    "# Стандартизируем\n",
    "normalized = data - data.mean(axis=0)\n",
    "normalized = normalized / data.std(axis=0)\n",
    "normalized.head(5)  # Визуально проверяем нормализацию"
   ]
  },
  {
   "cell_type": "code",
   "execution_count": 27,
   "id": "0104dce3",
   "metadata": {},
   "outputs": [
    {
     "data": {
      "text/html": [
       "<div>\n",
       "<style scoped>\n",
       "    .dataframe tbody tr th:only-of-type {\n",
       "        vertical-align: middle;\n",
       "    }\n",
       "\n",
       "    .dataframe tbody tr th {\n",
       "        vertical-align: top;\n",
       "    }\n",
       "\n",
       "    .dataframe thead th {\n",
       "        text-align: right;\n",
       "    }\n",
       "</style>\n",
       "<table border=\"1\" class=\"dataframe\">\n",
       "  <thead>\n",
       "    <tr style=\"text-align: right;\">\n",
       "      <th></th>\n",
       "      <th>Age</th>\n",
       "      <th>Employment Type</th>\n",
       "      <th>GraduateOrNot</th>\n",
       "      <th>AnnualIncome</th>\n",
       "      <th>FamilyMembers</th>\n",
       "      <th>ChronicDiseases</th>\n",
       "      <th>FrequentFlyer</th>\n",
       "      <th>EverTravelledAbroad</th>\n",
       "    </tr>\n",
       "  </thead>\n",
       "  <tbody>\n",
       "    <tr>\n",
       "      <th>count</th>\n",
       "      <td>1.987000e+03</td>\n",
       "      <td>1.987000e+03</td>\n",
       "      <td>1.987000e+03</td>\n",
       "      <td>1.987000e+03</td>\n",
       "      <td>1.987000e+03</td>\n",
       "      <td>1.987000e+03</td>\n",
       "      <td>1.987000e+03</td>\n",
       "      <td>1.987000e+03</td>\n",
       "    </tr>\n",
       "    <tr>\n",
       "      <th>mean</th>\n",
       "      <td>-3.298821e-16</td>\n",
       "      <td>5.363936e-17</td>\n",
       "      <td>7.017816e-17</td>\n",
       "      <td>-2.503170e-17</td>\n",
       "      <td>1.001268e-16</td>\n",
       "      <td>-8.939894e-18</td>\n",
       "      <td>1.340984e-17</td>\n",
       "      <td>-4.648745e-17</td>\n",
       "    </tr>\n",
       "    <tr>\n",
       "      <th>std</th>\n",
       "      <td>1.000000e+00</td>\n",
       "      <td>1.000000e+00</td>\n",
       "      <td>1.000000e+00</td>\n",
       "      <td>1.000000e+00</td>\n",
       "      <td>1.000000e+00</td>\n",
       "      <td>1.000000e+00</td>\n",
       "      <td>1.000000e+00</td>\n",
       "      <td>1.000000e+00</td>\n",
       "    </tr>\n",
       "    <tr>\n",
       "      <th>min</th>\n",
       "      <td>-1.608256e+00</td>\n",
       "      <td>-1.597897e+00</td>\n",
       "      <td>-4.074263e-01</td>\n",
       "      <td>-1.706760e+00</td>\n",
       "      <td>-1.738107e+00</td>\n",
       "      <td>-6.076302e-01</td>\n",
       "      <td>-5.019174e-01</td>\n",
       "      <td>-4.766408e-01</td>\n",
       "    </tr>\n",
       "    <tr>\n",
       "      <th>25%</th>\n",
       "      <td>-5.646228e-01</td>\n",
       "      <td>-1.597897e+00</td>\n",
       "      <td>-4.074263e-01</td>\n",
       "      <td>-8.999721e-01</td>\n",
       "      <td>-4.765111e-01</td>\n",
       "      <td>-6.076302e-01</td>\n",
       "      <td>-5.019174e-01</td>\n",
       "      <td>-4.766408e-01</td>\n",
       "    </tr>\n",
       "    <tr>\n",
       "      <th>50%</th>\n",
       "      <td>-2.167451e-01</td>\n",
       "      <td>6.255075e-01</td>\n",
       "      <td>-4.074263e-01</td>\n",
       "      <td>-9.318457e-02</td>\n",
       "      <td>1.542867e-01</td>\n",
       "      <td>-6.076302e-01</td>\n",
       "      <td>-5.019174e-01</td>\n",
       "      <td>-4.766408e-01</td>\n",
       "    </tr>\n",
       "    <tr>\n",
       "      <th>75%</th>\n",
       "      <td>8.268879e-01</td>\n",
       "      <td>6.255075e-01</td>\n",
       "      <td>-4.074263e-01</td>\n",
       "      <td>8.480675e-01</td>\n",
       "      <td>7.850846e-01</td>\n",
       "      <td>1.644909e+00</td>\n",
       "      <td>-5.019174e-01</td>\n",
       "      <td>-4.766408e-01</td>\n",
       "    </tr>\n",
       "    <tr>\n",
       "      <th>max</th>\n",
       "      <td>1.870521e+00</td>\n",
       "      <td>6.255075e-01</td>\n",
       "      <td>2.453196e+00</td>\n",
       "      <td>2.327178e+00</td>\n",
       "      <td>2.677478e+00</td>\n",
       "      <td>1.644909e+00</td>\n",
       "      <td>1.991357e+00</td>\n",
       "      <td>2.096960e+00</td>\n",
       "    </tr>\n",
       "  </tbody>\n",
       "</table>\n",
       "</div>"
      ],
      "text/plain": [
       "                Age  Employment Type  GraduateOrNot  AnnualIncome  \\\n",
       "count  1.987000e+03     1.987000e+03   1.987000e+03  1.987000e+03   \n",
       "mean  -3.298821e-16     5.363936e-17   7.017816e-17 -2.503170e-17   \n",
       "std    1.000000e+00     1.000000e+00   1.000000e+00  1.000000e+00   \n",
       "min   -1.608256e+00    -1.597897e+00  -4.074263e-01 -1.706760e+00   \n",
       "25%   -5.646228e-01    -1.597897e+00  -4.074263e-01 -8.999721e-01   \n",
       "50%   -2.167451e-01     6.255075e-01  -4.074263e-01 -9.318457e-02   \n",
       "75%    8.268879e-01     6.255075e-01  -4.074263e-01  8.480675e-01   \n",
       "max    1.870521e+00     6.255075e-01   2.453196e+00  2.327178e+00   \n",
       "\n",
       "       FamilyMembers  ChronicDiseases  FrequentFlyer  EverTravelledAbroad  \n",
       "count   1.987000e+03     1.987000e+03   1.987000e+03         1.987000e+03  \n",
       "mean    1.001268e-16    -8.939894e-18   1.340984e-17        -4.648745e-17  \n",
       "std     1.000000e+00     1.000000e+00   1.000000e+00         1.000000e+00  \n",
       "min    -1.738107e+00    -6.076302e-01  -5.019174e-01        -4.766408e-01  \n",
       "25%    -4.765111e-01    -6.076302e-01  -5.019174e-01        -4.766408e-01  \n",
       "50%     1.542867e-01    -6.076302e-01  -5.019174e-01        -4.766408e-01  \n",
       "75%     7.850846e-01     1.644909e+00  -5.019174e-01        -4.766408e-01  \n",
       "max     2.677478e+00     1.644909e+00   1.991357e+00         2.096960e+00  "
      ]
     },
     "execution_count": 27,
     "metadata": {},
     "output_type": "execute_result"
    }
   ],
   "source": [
    "normalized.describe()  # Проверяем значения среднеквадратичного отклонения после нормализации"
   ]
  },
  {
   "cell_type": "markdown",
   "id": "01d12bfa",
   "metadata": {},
   "source": [
    "## Тестовая и тренировочная выборки\n",
    "\n",
    "Разбивать датасет будем по правилу 80 на 20."
   ]
  },
  {
   "cell_type": "code",
   "execution_count": 28,
   "id": "dcaff4b1",
   "metadata": {},
   "outputs": [
    {
     "name": "stdout",
     "output_type": "stream",
     "text": [
      "X train: (1589, 8) test: (398, 8)\n",
      "Y train: 1589 test: 398\n"
     ]
    }
   ],
   "source": [
    "from sklearn.model_selection import train_test_split\n",
    "\n",
    "X_train_data, X_test_data, Y_train_data, Y_test_data = train_test_split(normalized,\n",
    "                                                                        classes,\n",
    "                                                                        test_size = 0.2,\n",
    "                                                                        random_state = np.random.RandomState(0))\n",
    "\n",
    "print(\"X\", \"train:\", X_train_data.shape, \"test:\", X_test_data.shape)\n",
    "print(\"Y\", \"train:\", len(Y_train_data), \"test:\", len(Y_test_data))"
   ]
  },
  {
   "cell_type": "markdown",
   "id": "7b36df33",
   "metadata": {},
   "source": [
    "## Классификатор ближайших соседей"
   ]
  },
  {
   "cell_type": "code",
   "execution_count": 27,
   "id": "bb91cf9d",
   "metadata": {},
   "outputs": [
    {
     "name": "stdout",
     "output_type": "stream",
     "text": [
      "k =  1 , error on train = 0.07929515418502203\n",
      "k =  1 , error on test  = 0.2964824120603015\n",
      "/********************************************/\n",
      "k =  2 , error on train = 0.14537444933920704\n",
      "k =  2 , error on test  = 0.22110552763819097\n",
      "/********************************************/\n",
      "k =  3 , error on train = 0.14977973568281938\n",
      "k =  3 , error on test  = 0.24371859296482412\n",
      "/********************************************/\n",
      "k =  4 , error on train = 0.1617369414726243\n",
      "k =  4 , error on test  = 0.20351758793969849\n",
      "/********************************************/\n",
      "k =  5 , error on train = 0.17117684078036502\n",
      "k =  5 , error on test  = 0.22110552763819097\n",
      "/********************************************/\n",
      "k =  6 , error on train = 0.17684078036500944\n",
      "k =  6 , error on test  = 0.21105527638190955\n",
      "/********************************************/\n",
      "k =  7 , error on train = 0.18187539332913782\n",
      "k =  7 , error on test  = 0.21105527638190955\n",
      "/********************************************/\n",
      "k =  8 , error on train = 0.18376337319068597\n",
      "k =  8 , error on test  = 0.1934673366834171\n",
      "/********************************************/\n",
      "k =  9 , error on train = 0.1856513530522341\n",
      "k =  9 , error on test  = 0.19597989949748743\n",
      "/********************************************/\n",
      "k =  10 , error on train = 0.19068596601636248\n",
      "k =  10 , error on test  = 0.19095477386934673\n",
      "/********************************************/\n",
      "k =  11 , error on train = 0.19068596601636248\n",
      "k =  11 , error on test  = 0.19597989949748743\n",
      "/********************************************/\n",
      "k =  12 , error on train = 0.19446192573945878\n",
      "k =  12 , error on test  = 0.20100502512562815\n",
      "/********************************************/\n",
      "k =  13 , error on train = 0.19068596601636248\n",
      "k =  13 , error on test  = 0.20351758793969849\n",
      "/********************************************/\n",
      "k =  14 , error on train = 0.19446192573945878\n",
      "k =  14 , error on test  = 0.20351758793969849\n",
      "/********************************************/\n",
      "k =  15 , error on train = 0.19634990560100693\n",
      "k =  15 , error on test  = 0.20603015075376885\n",
      "/********************************************/\n",
      "k =  16 , error on train = 0.19320327249842667\n",
      "k =  16 , error on test  = 0.20854271356783918\n",
      "/********************************************/\n",
      "k =  17 , error on train = 0.19572057898049086\n",
      "k =  17 , error on test  = 0.21105527638190955\n",
      "/********************************************/\n",
      "k =  18 , error on train = 0.19886721208307112\n",
      "k =  18 , error on test  = 0.20603015075376885\n",
      "/********************************************/\n",
      "k =  19 , error on train = 0.19634990560100693\n",
      "k =  19 , error on test  = 0.20854271356783918\n",
      "/********************************************/\n",
      "k =  20 , error on train = 0.19949653870358716\n",
      "k =  20 , error on test  = 0.20603015075376885\n",
      "/********************************************/\n",
      "k =  21 , error on train = 0.19823788546255505\n",
      "k =  21 , error on test  = 0.20854271356783918\n",
      "/********************************************/\n",
      "k =  22 , error on train = 0.19509125235997482\n",
      "k =  22 , error on test  = 0.20603015075376885\n",
      "/********************************************/\n",
      "k =  23 , error on train = 0.19886721208307112\n",
      "k =  23 , error on test  = 0.20854271356783918\n",
      "/********************************************/\n",
      "k =  24 , error on train = 0.19949653870358716\n",
      "k =  24 , error on test  = 0.20351758793969849\n",
      "/********************************************/\n",
      "k =  25 , error on train = 0.2001258653241032\n",
      "k =  25 , error on test  = 0.20351758793969849\n",
      "/********************************************/\n",
      "k =  26 , error on train = 0.20327249842668346\n",
      "k =  26 , error on test  = 0.20603015075376885\n",
      "/********************************************/\n",
      "k =  27 , error on train = 0.2026431718061674\n",
      "k =  27 , error on test  = 0.20351758793969849\n",
      "/********************************************/\n",
      "k =  28 , error on train = 0.20767778477029578\n",
      "k =  28 , error on test  = 0.20854271356783918\n",
      "/********************************************/\n",
      "k =  29 , error on train = 0.20516047828823158\n",
      "k =  29 , error on test  = 0.20100502512562815\n",
      "/********************************************/\n",
      "k =  30 , error on train = 0.20578980490874765\n",
      "k =  30 , error on test  = 0.20603015075376885\n",
      "/********************************************/\n",
      "CPU times: total: 2.69 s\n",
      "Wall time: 2.65 s\n"
     ]
    }
   ],
   "source": [
    "%%time\n",
    "from sklearn.neighbors import KNeighborsClassifier\n",
    "\n",
    "error_list = list()\n",
    "\n",
    "# Проходимся по 1-30 соседям\n",
    "for k in range(1, 31):\n",
    "    kNN = KNeighborsClassifier(n_neighbors = k).fit(X_train_data, Y_train_data)\n",
    "    X_tr_pred = kNN.predict(X_train_data)\n",
    "    X_te_pred = kNN.predict(X_test_data)\n",
    "    trError   = np.mean(Y_train_data != X_tr_pred)\n",
    "    testError = np.mean(Y_test_data  != X_te_pred)\n",
    "    error_list.append(testError)\n",
    "    print(\"k = \", k, \", error on train =\", trError)\n",
    "    print(\"k = \", k, \", error on test  =\", testError)\n",
    "    print(\"/********************************************/\")"
   ]
  },
  {
   "cell_type": "code",
   "execution_count": 28,
   "id": "241b0efa",
   "metadata": {},
   "outputs": [
    {
     "name": "stdout",
     "output_type": "stream",
     "text": [
      "Наилучшая точность на тестовой выборке: 0.8090452261306533\n",
      "При k = 10\n"
     ]
    }
   ],
   "source": [
    "print(\"Наилучшая точность на тестовой выборке:\", 1 - min(error_list))\n",
    "print(\"При k =\", error_list.index(min(error_list)) + 1)"
   ]
  },
  {
   "cell_type": "markdown",
   "id": "f05f32af",
   "metadata": {},
   "source": [
    "## SVM.SVC классификатор"
   ]
  },
  {
   "cell_type": "code",
   "execution_count": 29,
   "id": "f212ed64",
   "metadata": {},
   "outputs": [
    {
     "name": "stdout",
     "output_type": "stream",
     "text": [
      "Показатель точности на тренировочной выборке: 0.8187539332913782\n",
      "Показатель точности на тестовой выборке: 0.8090452261306533\n",
      "CPU times: total: 219 ms\n",
      "Wall time: 229 ms\n"
     ]
    }
   ],
   "source": [
    "%%time\n",
    "from sklearn.svm import SVC\n",
    "\n",
    "SVC = SVC(decision_function_shape='ovo').fit(X_train_data, Y_train_data)\n",
    "X_tr_pred = SVC.predict(X_train_data)\n",
    "X_te_pred = SVC.predict(X_test_data)\n",
    "trError   = np.mean(Y_train_data != X_tr_pred)\n",
    "testError = np.mean(Y_test_data  != X_te_pred)\n",
    "\n",
    "print(\"Показатель точности на тренировочной выборке:\", 1 - trError)\n",
    "print(\"Показатель точности на тестовой выборке:\", 1 - testError)"
   ]
  },
  {
   "cell_type": "markdown",
   "id": "20adce56",
   "metadata": {},
   "source": [
    "## Gradient boosting классификатор"
   ]
  },
  {
   "cell_type": "code",
   "execution_count": 30,
   "id": "466cca68",
   "metadata": {},
   "outputs": [
    {
     "name": "stdout",
     "output_type": "stream",
     "text": [
      "Показатель точности на тренировочной выборке: 0.8470736312146003\n",
      "Показатель точности на тестовой выборке: 0.8040201005025126\n",
      "CPU times: total: 62.5 ms\n",
      "Wall time: 68 ms\n"
     ]
    }
   ],
   "source": [
    "%%time\n",
    "from sklearn.ensemble import GradientBoostingClassifier\n",
    "\n",
    "GBC = GradientBoostingClassifier(n_estimators=15, max_depth=6).fit(X_train_data, Y_train_data)\n",
    "X_tr_pred = GBC.predict(X_train_data)\n",
    "X_te_pred = GBC.predict(X_test_data)\n",
    "trError   = np.mean(Y_train_data != X_tr_pred)\n",
    "testError = np.mean(Y_test_data  != X_te_pred)\n",
    "\n",
    "print(\"Показатель точности на тренировочной выборке:\", 1 - trError)\n",
    "print(\"Показатель точности на тестовой выборке:\", 1 - testError)"
   ]
  },
  {
   "cell_type": "markdown",
   "id": "b87df63c",
   "metadata": {},
   "source": [
    "## Классификатор дерева решений"
   ]
  },
  {
   "cell_type": "code",
   "execution_count": 38,
   "id": "5960d1ea",
   "metadata": {},
   "outputs": [
    {
     "name": "stdout",
     "output_type": "stream",
     "text": [
      "Показатель точности на тренировочной выборке: 0.9282567652611705\n",
      "Показатель точности на тестовой выборке: 0.728643216080402\n",
      "CPU times: total: 15.6 ms\n",
      "Wall time: 6 ms\n"
     ]
    }
   ],
   "source": [
    "%%time\n",
    "from sklearn.tree import DecisionTreeClassifier\n",
    "\n",
    "DTC = DecisionTreeClassifier().fit(X_train_data, Y_train_data)\n",
    "X_tr_pred = DTC.predict(X_train_data)\n",
    "X_te_pred = DTC.predict(X_test_data)\n",
    "trError   = np.mean(Y_train_data != X_tr_pred)\n",
    "testError = np.mean(Y_test_data  != X_te_pred)\n",
    "\n",
    "print(\"Показатель точности на тренировочной выборке:\", 1 - trError)\n",
    "print(\"Показатель точности на тестовой выборке:\", 1 - testError)"
   ]
  },
  {
   "cell_type": "markdown",
   "id": "26d035ef",
   "metadata": {},
   "source": [
    "## Случайный лес"
   ]
  },
  {
   "cell_type": "code",
   "execution_count": 42,
   "id": "10314a41",
   "metadata": {},
   "outputs": [
    {
     "name": "stdout",
     "output_type": "stream",
     "text": [
      "Показатель точности на тренировочной выборке: 0.8414096916299559\n",
      "Показатель точности на тестовой выборке: 0.8165829145728644\n",
      "CPU times: total: 46.9 ms\n",
      "Wall time: 21 ms\n"
     ]
    }
   ],
   "source": [
    "%%time\n",
    "from sklearn.ensemble import RandomForestClassifier\n",
    "\n",
    "RFC = RandomForestClassifier(n_estimators=10, max_depth=6, random_state=np.random.RandomState(0)).fit(X_train_data, Y_train_data)\n",
    "X_tr_pred = RFC.predict(X_train_data)\n",
    "X_te_pred = RFC.predict(X_test_data)\n",
    "trError   = np.mean(Y_train_data != X_tr_pred)\n",
    "testError = np.mean(Y_test_data  != X_te_pred)\n",
    "\n",
    "print(\"Показатель точности на тренировочной выборке:\", 1 - trError)\n",
    "print(\"Показатель точности на тестовой выборке:\", 1 - testError)"
   ]
  },
  {
   "cell_type": "markdown",
   "id": "df0a2303",
   "metadata": {},
   "source": [
    "## Выводы по классификациям"
   ]
  },
  {
   "cell_type": "markdown",
   "id": "6b51100e",
   "metadata": {},
   "source": [
    "Классификатор ближайших соседей: наибольший показатель точности в рамках данного классификатора составил ~79% при k = 10.\n",
    "\n",
    "Наибольший показатель точности среди всех использованных классификаторах показал классификатор RandomForestClassifier (случайный лес). Значение составило ~82%.\n",
    "\n",
    "Эмпирическим путём для данного классификатора были подобраны следующие параметры:\n",
    "- n_estimators = 10;\n",
    "- max_depth = 6."
   ]
  },
  {
   "cell_type": "markdown",
   "id": "bb4535af",
   "metadata": {},
   "source": [
    "# Выводы по проделанной работе"
   ]
  },
  {
   "cell_type": "markdown",
   "id": "2253c287",
   "metadata": {},
   "source": [
    "В ходе проделанной работы:\n",
    "- Был проведён анализ характеристик по входным данным:\n",
    "    - Классы выборки оказались несбалансированными (65:35);\n",
    "    - Были выявлены и объяснены корреляционные зависимости между различными параметрами;\n",
    "    - Были составлены таблицы по основным характеристикам.\n",
    "- Был сымитирован (и исправлен) случай пропущенных значений;\n",
    "- Входные данные были подготовлены (т.е. отформатированы и нормализованы) для подачи их на вход алгоритмам классификации;\n",
    "- Готовые данные были разделены на тренировочную и тестовую выборки в соостветсвии с правилом 80 на 20;\n",
    "- Произведены эксперименты с разными алгоритами классификации над входными данными.\n",
    "\n",
    "В результате экспериметов:\n",
    "- Найден оптимальный параметр и наилучший показатель точности алгоритма kNN;\n",
    "- Был найден алгоритм, незначительно увеличивающий показатель точности в сравнении с kNN, но сильно уступающий в результатах замера времени."
   ]
  },
  {
   "cell_type": "markdown",
   "id": "c7fa058e",
   "metadata": {},
   "source": [
    "# Лабораторная 2 (ДМЗ 6)"
   ]
  },
  {
   "cell_type": "markdown",
   "id": "afea2ac7",
   "metadata": {},
   "source": [
    "Загрузка, визуальная проверка и обработка входных данных представлена в начале документа. Возьмём из предыдущий работы подготовленные наборы тренировочных и тестовых данных X_train_data, X_test_data, Y_train_data, Y_test_data."
   ]
  },
  {
   "cell_type": "code",
   "execution_count": 187,
   "id": "2fbae278",
   "metadata": {},
   "outputs": [],
   "source": [
    "from sklearn.neural_network import MLPClassifier\n",
    "from sklearn.metrics import accuracy_score\n",
    "\n",
    "import matplotlib.pyplot as plt\n",
    "%matplotlib inline"
   ]
  },
  {
   "cell_type": "markdown",
   "id": "8a35f157",
   "metadata": {},
   "source": [
    "## Подбор гиперпараметров\n",
    "\n",
    "### Подберем оптимальное значение нейронов (1 скрытый слой)"
   ]
  },
  {
   "cell_type": "code",
   "execution_count": 233,
   "id": "28425e79",
   "metadata": {},
   "outputs": [
    {
     "name": "stdout",
     "output_type": "stream",
     "text": [
      "Нейронов:  5\n",
      "Нейронов:  10\n",
      "Нейронов:  15\n",
      "Нейронов:  20\n",
      "Нейронов:  25\n",
      "Нейронов:  30\n",
      "Нейронов:  35\n",
      "Нейронов:  40\n",
      "Нейронов:  45\n",
      "Нейронов:  50\n",
      "Нейронов:  55\n",
      "Нейронов:  60\n",
      "Нейронов:  65\n",
      "Нейронов:  70\n",
      "Нейронов:  75\n",
      "Нейронов:  80\n",
      "Нейронов:  85\n",
      "Нейронов:  90\n",
      "Нейронов:  95\n"
     ]
    }
   ],
   "source": [
    "neurons = range(5, 100, 5)\n",
    "test_err, train_err, train_acc, test_acc = [], [], [], []\n",
    "\n",
    "for n in neurons:\n",
    "    mlp_model = MLPClassifier(hidden_layer_sizes = (n,), \n",
    "                              solver = 'lbfgs', activation = 'logistic', max_iter=1000, random_state = 42)\n",
    "    mlp_model.fit(X_train_data, Y_train_data)\n",
    "\n",
    "    y_train_pred = mlp_model.predict(X_train_data)\n",
    "    y_test_pred = mlp_model.predict(X_test_data)\n",
    "\n",
    "    train_err.append(np.mean(Y_train_data != y_train_pred))\n",
    "    test_err.append(np.mean(Y_test_data != y_test_pred))\n",
    "    train_acc.append(accuracy_score(Y_train_data, y_train_pred))\n",
    "    test_acc.append(accuracy_score(Y_test_data, y_test_pred))\n",
    "    \n",
    "    print(\"Нейронов: \", n)"
   ]
  },
  {
   "cell_type": "code",
   "execution_count": 234,
   "id": "54cb93e6",
   "metadata": {},
   "outputs": [
    {
     "data": {
      "text/plain": [
       "<matplotlib.legend.Legend at 0x286fcb693a0>"
      ]
     },
     "execution_count": 234,
     "metadata": {},
     "output_type": "execute_result"
    },
    {
     "data": {
      "image/png": "[encoded data removed]",
      "text/plain": [
       "<Figure size 640x480 with 1 Axes>"
      ]
     },
     "metadata": {},
     "output_type": "display_data"
    }
   ],
   "source": [
    "plt.semilogx(neurons, train_err, 'b-o', label = 'train')\n",
    "plt.semilogx(neurons, test_err, 'r-o', label = 'test')\n",
    "plt.xlim([np.min(neurons), np.max(neurons)])\n",
    "plt.title('Error vs. num_neurons')\n",
    "plt.xlabel('num_neurons')\n",
    "plt.ylabel('error')\n",
    "plt.legend()"
   ]
  },
  {
   "cell_type": "code",
   "execution_count": 235,
   "id": "bf0ce7aa",
   "metadata": {},
   "outputs": [
    {
     "data": {
      "text/plain": [
       "<matplotlib.legend.Legend at 0x286fcbd8a30>"
      ]
     },
     "execution_count": 235,
     "metadata": {},
     "output_type": "execute_result"
    },
    {
     "data": {
      "image/png": "[encoded data removed]",
      "text/plain": [
       "<Figure size 640x480 with 1 Axes>"
      ]
     },
     "metadata": {},
     "output_type": "display_data"
    }
   ],
   "source": [
    "plt.semilogx(neurons, train_acc, 'r-o', label = 'train')\n",
    "plt.semilogx(neurons, test_acc, 'b-o', label = 'test')\n",
    "plt.xlim([np.min(neurons), np.max(neurons)])\n",
    "plt.title('Accuracy vs. num_neurons')\n",
    "plt.xlabel('num_neurons')\n",
    "plt.ylabel('Accuracy')\n",
    "plt.legend()"
   ]
  },
  {
   "cell_type": "markdown",
   "id": "b6b87858",
   "metadata": {},
   "source": [
    "Минимальное значение ошибки:"
   ]
  },
  {
   "cell_type": "code",
   "execution_count": 236,
   "id": "42d99c43",
   "metadata": {},
   "outputs": [
    {
     "name": "stdout",
     "output_type": "stream",
     "text": [
      "Минимальная ошибка на обучающей выборке:  0.07426054122089365\n",
      "Минимальная ошибка на тестовой выборке:  0.1984924623115578\n"
     ]
    }
   ],
   "source": [
    "min_train_err = np.min(train_err)\n",
    "min_test_err = np.min(test_err)\n",
    "print(\"Минимальная ошибка на обучающей выборке: \", min_train_err)\n",
    "print(\"Минимальная ошибка на тестовой выборке: \", min_test_err)"
   ]
  },
  {
   "cell_type": "markdown",
   "id": "9f2c33f3",
   "metadata": {},
   "source": [
    "Оптимальное количество нейронов:"
   ]
  },
  {
   "cell_type": "code",
   "execution_count": 237,
   "id": "5ecbe620",
   "metadata": {},
   "outputs": [
    {
     "name": "stdout",
     "output_type": "stream",
     "text": [
      "5\n"
     ]
    }
   ],
   "source": [
    "n_opt = neurons[np.argmin(test_err)]\n",
    "print(n_opt)"
   ]
  },
  {
   "cell_type": "code",
   "execution_count": 238,
   "id": "a2dbfb8c",
   "metadata": {},
   "outputs": [
    {
     "name": "stdout",
     "output_type": "stream",
     "text": [
      "Оптимальное количество нейронов:  5\n"
     ]
    }
   ],
   "source": [
    "print(\"Оптимальное количество нейронов: \", n_opt)"
   ]
  },
  {
   "cell_type": "markdown",
   "id": "b23269ef",
   "metadata": {},
   "source": [
    "### Подберем оптимальное значение параметра регуляризации alpha при оптимальном числе нейронов (1 скрытый слой)"
   ]
  },
  {
   "cell_type": "code",
   "execution_count": 239,
   "id": "d9cea087",
   "metadata": {},
   "outputs": [],
   "source": [
    "alpha_arr = np.logspace(-3, 2, 21)\n",
    "\n",
    "test_err, train_err, train_acc, test_acc = [], [], [], []\n",
    "\n",
    "for alpha in alpha_arr:\n",
    "    mlp_model = MLPClassifier(alpha = alpha, hidden_layer_sizes = (n_opt,), \n",
    "                              solver = 'lbfgs', activation = 'logistic', max_iter=1000, random_state = 42)\n",
    "    mlp_model.fit(X_train_data, Y_train_data)\n",
    "\n",
    "    y_train_pred = mlp_model.predict(X_train_data)\n",
    "    y_test_pred = mlp_model.predict(X_test_data)\n",
    "\n",
    "    train_err.append(np.mean(Y_train_data != y_train_pred))\n",
    "    test_err.append(np.mean(Y_test_data != y_test_pred))\n",
    "    train_acc.append(accuracy_score(Y_train_data, y_train_pred))\n",
    "    test_acc.append(accuracy_score(Y_test_data, y_test_pred))"
   ]
  },
  {
   "cell_type": "code",
   "execution_count": 241,
   "id": "37648f0d",
   "metadata": {},
   "outputs": [
    {
     "data": {
      "text/plain": [
       "<matplotlib.legend.Legend at 0x286fe462f70>"
      ]
     },
     "execution_count": 241,
     "metadata": {},
     "output_type": "execute_result"
    },
    {
     "data": {
      "image/png": "[encoded data removed]",
      "text/plain": [
       "<Figure size 640x480 with 1 Axes>"
      ]
     },
     "metadata": {},
     "output_type": "display_data"
    }
   ],
   "source": [
    "plt.semilogx(alpha_arr, train_err, 'b-o', label = 'train')\n",
    "plt.semilogx(alpha_arr, test_err, 'r-o', label = 'test')\n",
    "plt.xlim([np.min(alpha_arr), np.max(alpha_arr)])\n",
    "plt.title('Error vs. alpha. Hidden layers = 1')\n",
    "plt.xlabel('alpha')\n",
    "plt.ylabel('error')\n",
    "plt.legend()"
   ]
  },
  {
   "cell_type": "code",
   "execution_count": 243,
   "id": "20967259",
   "metadata": {},
   "outputs": [
    {
     "data": {
      "text/plain": [
       "<matplotlib.legend.Legend at 0x286fecf59d0>"
      ]
     },
     "execution_count": 243,
     "metadata": {},
     "output_type": "execute_result"
    },
    {
     "data": {
      "image/png": "[encoded data removed]",
      "text/plain": [
       "<Figure size 640x480 with 1 Axes>"
      ]
     },
     "metadata": {},
     "output_type": "display_data"
    }
   ],
   "source": [
    "plt.semilogx(alpha_arr, train_acc, 'r-o', label = 'train')\n",
    "plt.semilogx(alpha_arr, test_acc, 'b-o', label = 'test')\n",
    "plt.xlim([np.min(alpha_arr), np.max(alpha_arr)])\n",
    "plt.title('Accuracy vs. alpha. Hidden layers = 1')\n",
    "plt.xlabel('alpha')\n",
    "plt.ylabel('Accuracy')\n",
    "plt.legend()"
   ]
  },
  {
   "cell_type": "code",
   "execution_count": 244,
   "id": "1024c2bc",
   "metadata": {},
   "outputs": [
    {
     "name": "stdout",
     "output_type": "stream",
     "text": [
      "Минимальная ошибка на обучающей выборке:  0.18187539332913782\n",
      "Минимальная ошибка на тестовой выборке:  0.1934673366834171\n"
     ]
    }
   ],
   "source": [
    "min_train_err = np.min(train_err)\n",
    "min_test_err = np.min(test_err)\n",
    "print(\"Минимальная ошибка на обучающей выборке: \", min_train_err)\n",
    "print(\"Минимальная ошибка на тестовой выборке: \", min_test_err)"
   ]
  },
  {
   "cell_type": "code",
   "execution_count": 246,
   "id": "2b93a80b",
   "metadata": {},
   "outputs": [
    {
     "name": "stdout",
     "output_type": "stream",
     "text": [
      "0.01\n"
     ]
    }
   ],
   "source": [
    "alpha_opt = alpha_arr[np.argmin(test_err)]\n",
    "print(alpha_opt)"
   ]
  },
  {
   "cell_type": "code",
   "execution_count": 249,
   "id": "929cffb6",
   "metadata": {},
   "outputs": [
    {
     "name": "stdout",
     "output_type": "stream",
     "text": [
      "Оптимальное значение alpha:  0.01\n"
     ]
    }
   ],
   "source": [
    "print(\"Оптимальное значение alpha: \", alpha_opt)"
   ]
  },
  {
   "cell_type": "markdown",
   "id": "a1730649",
   "metadata": {},
   "source": [
    "### Подберем оптимальное значение нейронов (2 скрытых слоя)"
   ]
  },
  {
   "cell_type": "code",
   "execution_count": 250,
   "id": "d15340f4",
   "metadata": {},
   "outputs": [],
   "source": [
    "neurons1 = range(5, 100, 5)\n",
    "neurons2 = range(5, 100, 5)\n",
    "\n",
    "shape = np.zeros((len(neurons1), len(neurons2)))\n",
    "\n",
    "test_err, train_err, train_acc, test_acc = np.copy(shape), np.copy(shape), np.copy(shape), np.copy(shape)\n",
    "\n",
    "for n1 in range(len(neurons1)):\n",
    "    for n2 in range(len(neurons)):\n",
    "        mlp_model = MLPClassifier(hidden_layer_sizes = (neurons1[n1], neurons2[n2]), \n",
    "                                  solver = 'lbfgs', activation = 'logistic', max_iter=1000, random_state = 42)\n",
    "        mlp_model.fit(X_train_data, Y_train_data)\n",
    "\n",
    "        y_train_pred = mlp_model.predict(X_train_data)\n",
    "        y_test_pred = mlp_model.predict(X_test_data)\n",
    "\n",
    "        train_err[n1][n2] = (np.mean(Y_train_data != y_train_pred))\n",
    "        test_err[n1][n2] = (np.mean(Y_test_data != y_test_pred))\n",
    "        train_acc[n1][n2] = (accuracy_score(Y_train_data, y_train_pred))\n",
    "        test_acc[n1][n2] = (accuracy_score(Y_test_data, y_test_pred))\n"
   ]
  },
  {
   "cell_type": "code",
   "execution_count": 251,
   "id": "fd6218a0",
   "metadata": {},
   "outputs": [
    {
     "name": "stdout",
     "output_type": "stream",
     "text": [
      "Минимальная ошибка на обучающей выборке:  0.07426054122089365\n",
      "Минимальная ошибка на тестовой выборке:  0.19597989949748743\n",
      "Оптимальное количество нейронов для первого слоя:  80\n",
      "Оптимальное количество нейронов для второго слоя:  10\n"
     ]
    }
   ],
   "source": [
    "min_train_err = np.min(train_err)\n",
    "min_test_err = np.min(test_err)\n",
    "print(\"Минимальная ошибка на обучающей выборке: \", min_train_err)\n",
    "print(\"Минимальная ошибка на тестовой выборке: \", min_test_err)\n",
    "\n",
    "n_opt_1 = -1\n",
    "n_opt_2 = -1\n",
    "for n1 in range(len(neurons1)):\n",
    "    for n2 in range(len(neurons2)):\n",
    "        if (test_err[n1][n2] == min_test_err):\n",
    "            print(\"Оптимальное количество нейронов для первого слоя: \", neurons1[n1])\n",
    "            print(\"Оптимальное количество нейронов для второго слоя: \", neurons2[n2])\n",
    "            n_opt_1 = neurons1[n1]\n",
    "            n_opt_2 = neurons2[n2]\n",
    "            break"
   ]
  },
  {
   "cell_type": "markdown",
   "id": "d3345e13",
   "metadata": {},
   "source": [
    "### Подберем оптимальное значение параметра регуляризации alpha при оптимальных количествах нейронов (2 скрытых слоя)"
   ]
  },
  {
   "cell_type": "code",
   "execution_count": 252,
   "id": "fabc5de7",
   "metadata": {},
   "outputs": [],
   "source": [
    "alpha_arr = np.logspace(-3, 2, 21)\n",
    "\n",
    "test_err, train_err, train_acc, test_acc = [], [], [], []\n",
    "\n",
    "for alpha in alpha_arr:\n",
    "    mlp_model = MLPClassifier(alpha = alpha, hidden_layer_sizes = (n_opt_1, n_opt_2), \n",
    "                              solver = 'lbfgs', activation = 'logistic', max_iter=1000, random_state = 42)\n",
    "    mlp_model.fit(X_train_data, Y_train_data)\n",
    "\n",
    "    y_train_pred = mlp_model.predict(X_train_data)\n",
    "    y_test_pred = mlp_model.predict(X_test_data)\n",
    "\n",
    "    train_err.append(np.mean(Y_train_data != y_train_pred))\n",
    "    test_err.append(np.mean(Y_test_data != y_test_pred))\n",
    "    train_acc.append(accuracy_score(Y_train_data, y_train_pred))\n",
    "    test_acc.append(accuracy_score(Y_test_data, y_test_pred))"
   ]
  },
  {
   "cell_type": "code",
   "execution_count": 253,
   "id": "a05fd73c",
   "metadata": {},
   "outputs": [
    {
     "data": {
      "text/plain": [
       "<matplotlib.legend.Legend at 0x286fc181ee0>"
      ]
     },
     "execution_count": 253,
     "metadata": {},
     "output_type": "execute_result"
    },
    {
     "data": {
      "image/png": "[encoded data removed]",
      "text/plain": [
       "<Figure size 640x480 with 1 Axes>"
      ]
     },
     "metadata": {},
     "output_type": "display_data"
    }
   ],
   "source": [
    "plt.semilogx(alpha_arr, train_err, 'b-o', label = 'train')\n",
    "plt.semilogx(alpha_arr, test_err, 'r-o', label = 'test')\n",
    "plt.xlim([np.min(alpha_arr), np.max(alpha_arr)])\n",
    "plt.title('Error vs. alpha. Hidden layers = 1')\n",
    "plt.xlabel('alpha')\n",
    "plt.ylabel('error')\n",
    "plt.legend()"
   ]
  },
  {
   "cell_type": "code",
   "execution_count": 254,
   "id": "a4fe894e",
   "metadata": {},
   "outputs": [
    {
     "data": {
      "text/plain": [
       "<matplotlib.legend.Legend at 0x286fe414040>"
      ]
     },
     "execution_count": 254,
     "metadata": {},
     "output_type": "execute_result"
    },
    {
     "data": {
      "image/png": "[encoded data removed]",
      "text/plain": [
       "<Figure size 640x480 with 1 Axes>"
      ]
     },
     "metadata": {},
     "output_type": "display_data"
    }
   ],
   "source": [
    "plt.semilogx(alpha_arr, train_acc, 'r-o', label = 'train')\n",
    "plt.semilogx(alpha_arr, test_acc, 'b-o', label = 'test')\n",
    "plt.xlim([np.min(alpha_arr), np.max(alpha_arr)])\n",
    "plt.title('Accuracy vs. alpha. Hidden layers = 1')\n",
    "plt.xlabel('alpha')\n",
    "plt.ylabel('Accuracy')\n",
    "plt.legend()"
   ]
  },
  {
   "cell_type": "code",
   "execution_count": 255,
   "id": "cde39342",
   "metadata": {},
   "outputs": [
    {
     "name": "stdout",
     "output_type": "stream",
     "text": [
      "Минимальная ошибка на обучающей выборке:  0.07488986784140969\n",
      "Минимальная ошибка на тестовой выборке:  0.1984924623115578\n"
     ]
    }
   ],
   "source": [
    "min_train_err = np.min(train_err)\n",
    "min_test_err = np.min(test_err)\n",
    "print(\"Минимальная ошибка на обучающей выборке: \", min_train_err)\n",
    "print(\"Минимальная ошибка на тестовой выборке: \", min_test_err)"
   ]
  },
  {
   "cell_type": "code",
   "execution_count": 256,
   "id": "17cc849e",
   "metadata": {},
   "outputs": [
    {
     "name": "stdout",
     "output_type": "stream",
     "text": [
      "1.7782794100389228\n"
     ]
    }
   ],
   "source": [
    "alpha_opt = alpha_arr[np.argmin(test_err)]\n",
    "print(alpha_opt)"
   ]
  },
  {
   "cell_type": "code",
   "execution_count": 257,
   "id": "2def0e37",
   "metadata": {},
   "outputs": [
    {
     "name": "stdout",
     "output_type": "stream",
     "text": [
      "Оптимальное значение alpha:  1.7782794100389228\n"
     ]
    }
   ],
   "source": [
    "print(\"Оптимальное значение alpha: \", alpha_opt)"
   ]
  },
  {
   "cell_type": "markdown",
   "id": "25a9ff9b",
   "metadata": {},
   "source": [
    "# Выводы по проделанной работе"
   ]
  },
  {
   "cell_type": "markdown",
   "id": "d5846b31",
   "metadata": {},
   "source": [
    "Примечание: для оценки полученных результатов точности будем сравнивать их с наибольшим показателем точности, полученным в предыдущей работе при использовании алгоритма \"Случайный лес\" (0.816).\n",
    "\n",
    "0. Проделана работа по обучению MLPClassifier классификатора на основе входных данных и работа по подбору гиперпараметров;\n",
    "1. Подбор оптимального параметра регуляризации alpha (1 скрытый слой):\n",
    "    1. Найдено оптимальное число нейронов, равное 1;\n",
    "    2. Найдено оптимальное значение alpha, равное 0.01;\n",
    "    2. Значение ошибки на тестовой выборке при этом составило 0.193 (точность = 0.807). Точность меньше на 0.9%.\n",
    "    3. Переобучение не наблюдается: при возрастании alpha значение ошибки также возрастает, как на тестовой, так и на обучающей выборке.\n",
    "2. Подбор оптимального параметра регуляризации alpha (2 скрытых слоя):\n",
    "    1. Найдено оптимальное число нейронов, равное 80 и 10 для первого и второго слоев соответственно;\n",
    "    2. Найдено оптимальное значение alpha, равное 1.778;\n",
    "    2. Значение ошибки на тестовой выборке при этом составило 0.198 (точность = 0.802). Точность меньше на 1.4%.\n",
    "    3. Переобучение не наблюдается;\n",
    "    4. Вероятно имеется проблема недообучения.\n",
    "\n",
    "Вероятные причины, из-за которых не удалось получить бОльшее значение точности при использовании многослойной сети:\n",
    "1. Объём входных данных составляет 1987, из которых \\~3% было удалено из-за имитации пропущенных значений (\\~1918). Кроме того, для обучения сети, данные были разделены в соотношении 80 на 20. Т.о. размер обучающей выборки составил \\~1535. В сравнении со многими популярными датасетами, данное значение относительно невилко, что рождает проблему недостаточности входных данных для обучения;\n",
    "2. Некоторые признаки входных данных имеют корреляционную зависимость, что может влиять на модель МО. Например, приводить к неустойчивости коэффициентов."
   ]
  },
  {
   "cell_type": "markdown",
   "id": "7a6c52f8",
   "metadata": {},
   "source": [
    "# ПРИМЕЧАНИЕ\n",
    "## Первая работа не была сдана в срок. Пожалуйста, если есть такая возможность, перепроверьте с:"
   ]
  }
 ],
 "metadata": {
  "kernelspec": {
   "display_name": "Python 3 (ipykernel)",
   "language": "python",
   "name": "python3"
  },
  "language_info": {
   "codemirror_mode": {
    "name": "ipython",
    "version": 3
   },
   "file_extension": ".py",
   "mimetype": "text/x-python",
   "name": "python",
   "nbconvert_exporter": "python",
   "pygments_lexer": "ipython3",
   "version": "3.9.0"
  }
 },
 "nbformat": 4,
 "nbformat_minor": 5
}
